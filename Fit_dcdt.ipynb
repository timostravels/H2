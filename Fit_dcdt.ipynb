{
 "cells": [
  {
   "cell_type": "markdown",
   "metadata": {
    "Collapsed": "false"
   },
   "source": [
    "# Fitting ODE solution to concentration data \n",
    " * with arbitrary rate function with\n",
    "   * unspecified order n and rate constant k\n",
    " * $ rate = \\frac{dc}{dt} = k \\cdot c^n $\n",
    " \n",
    "Anleitung:\n",
    "  1. Type the measured data into the field under chapter 2\n",
    "  2. Press \"Restart Kernel and run all cells\""
   ]
  },
  {
   "cell_type": "markdown",
   "metadata": {
    "Collapsed": "false"
   },
   "source": [
    "## 1. Prepare"
   ]
  },
  {
   "cell_type": "markdown",
   "metadata": {
    "Collapsed": "false"
   },
   "source": [
    "### 1.1 Import python libs"
   ]
  },
  {
   "cell_type": "code",
   "execution_count": 1,
   "metadata": {
    "Collapsed": "false"
   },
   "outputs": [],
   "source": [
    "import pandas as pd\n",
    "import numpy as np\n",
    "import matplotlib as mpl\n",
    "import matplotlib.pyplot as plt\n",
    "from scipy.optimize import curve_fit\n",
    "from scipy.integrate import odeint"
   ]
  },
  {
   "cell_type": "markdown",
   "metadata": {
    "Collapsed": "true"
   },
   "source": [
    "### 1.2 Define function DoH(BI)"
   ]
  },
  {
   "cell_type": "code",
   "execution_count": 2,
   "metadata": {
    "Collapsed": "false"
   },
   "outputs": [],
   "source": [
    "def DoH_BI(BI): # aus Diss von M. Geißelbrecht 2020\n",
    "    DoH_BI =  (27.447*BI**2 - 94.278*BI +80.371)  \n",
    "    return DoH_BI"
   ]
  },
  {
   "cell_type": "markdown",
   "metadata": {
    "Collapsed": "true"
   },
   "source": [
    "### 1.3 Fit using scipy.curve_fit with odeint solution to nth_order function\n",
    " * $ fitfunc(DoH, t)(k,n): \\frac{\\partial DoH}{\\partial t} = -k \\cdot DoH^n $"
   ]
  },
  {
   "cell_type": "code",
   "execution_count": 3,
   "metadata": {
    "Collapsed": "false"
   },
   "outputs": [],
   "source": [
    "def dcdt_fit(df):\n",
    "    tspan = df['t /min']\n",
    "    DoH_data = df['DoH']\n",
    "\n",
    "    def fitfunc(t, k, n):\n",
    "        'Function that returns DoH computed from an ODE for k and n'\n",
    "        def myode(DoH, t):\n",
    "            return -k * DoH**n\n",
    "\n",
    "        DoH0 = DoH_data[0]\n",
    "        DoHsol = odeint(myode, DoH0, t)\n",
    "        return DoHsol[:,0]\n",
    "\n",
    "    p0 = 2*10**(-4), 1\n",
    "    bounds=([0, .5],[float('Inf'), 2.]) # k =e[0,Inf] und n =e[1,2]\n",
    "    kn_fit, kncov,  = curve_fit(fitfunc, tspan, DoH_data, p0=p0, bounds=bounds)\n",
    "    # print('k = ' + str(kn_fit[0]) + ' | n = ' + str(kn_fit[1]))\n",
    "\n",
    "    tfit = np.linspace(np.min(tspan), np.max(tspan), 100);\n",
    "    fit = fitfunc(tfit, *kn_fit)\n",
    "\n",
    "    f = plt.figure()\n",
    "    rect = ([0,0,1,1]) # rect = [left, bottom, width, height]\n",
    "    ax = f.add_axes(rect)\n",
    "    ax.set_ylim(0,1)\n",
    "    ax.plot(tspan, DoH_data, 'ro', label='data')\n",
    "    ax.plot(tfit, fit, 'b-', label='fit')\n",
    "    ax.legend(loc='best')\n",
    "\n",
    "    str_kinetik = '$\\\\frac{\\\\partial DoH}{\\\\partial t} = k \\cdot DoH^n = $' + '{:.4e}'.format(kn_fit[0]) + '$\\\\cdot DoH^{' + '{:3.4f}'.format(kn_fit[1]) + '}$'\n",
    "    ax.text(np.min(tspan), 0.05, str_kinetik, color='blue')\n",
    "    \n",
    "    k = kn_fit[0]\n",
    "    n = kn_fit[1]\n",
    "    \n",
    "    return k, n"
   ]
  },
  {
   "cell_type": "markdown",
   "metadata": {
    "Collapsed": "false"
   },
   "source": [
    "## 2. t/min and BI/nd\n",
    "\n",
    "&#8594; Eingabe der Messzeitpukte in min sowie der BI_1 und BI_2 Messungen (oder direkt des BI_mean)\n",
    "<br>*(In Notepad++ lassen sich über Suchen/Ersetzen \"\\r\\n\" durch \",\" ersetzen um Leerzeilen zu entfernen)*"
   ]
  },
  {
   "cell_type": "code",
   "execution_count": 4,
   "metadata": {
    "Collapsed": "false"
   },
   "outputs": [
    {
     "name": "stdout",
     "output_type": "stream",
     "text": [
      "[1.47825 1.4799  1.481   1.48235 1.48615 1.4885  1.49115 1.4938  1.49585\n",
      " 1.4984  1.501   1.50315 1.53625 1.5416  1.5456 ]\n"
     ]
    }
   ],
   "source": [
    "t = 0,15,30,60,120,180,240,300,360,420,480,540,1466,1648,1750\n",
    "BI_1 = 1.4782,1.4800,1.4809,1.4824,1.4862,1.4886,1.4914,1.4938,1.4959,1.4984,1.5010,1.5032,1.5362,1.5416,1.5456,\n",
    "BI_2 = 1.4783,1.4798,1.4811,1.4823,1.4861,1.4884,1.4909,1.4938,1.4958,1.4984,1.501,1.5031,1.5363,1.5416,1.5456,\n",
    "\n",
    "BI_mean = np.mean([BI_1, BI_2], axis=0)\n",
    "print(BI_mean)"
   ]
  },
  {
   "cell_type": "markdown",
   "metadata": {
    "Collapsed": "false"
   },
   "source": [
    "## 3. Make pretty dataframe, display plot and results from measurements"
   ]
  },
  {
   "cell_type": "code",
   "execution_count": 7,
   "metadata": {
    "Collapsed": "false"
   },
   "outputs": [
    {
     "name": "stdout",
     "output_type": "stream",
     "text": [
      "k = 0.0007036130055591324 | n = 0.7887209540802983\n"
     ]
    },
    {
     "data": {
      "image/png": "[encoded data removed]",
      "text/plain": [
       "<Figure size 432x288 with 1 Axes>"
      ]
     },
     "metadata": {
      "needs_background": "light"
     },
     "output_type": "display_data"
    }
   ],
   "source": [
    "df = pd.DataFrame(BI_mean, t).reset_index()\n",
    "df.columns = ['t /min', 'BI_mean']\n",
    "df['DoH'] = DoH_BI(df[['BI_mean']])\n",
    "\n",
    "df\n",
    "\n",
    "k, n = dcdt_fit(df)\n",
    "print('k = ' + str(k) + ' | n = ' + str(n))"
   ]
  }
 ],
 "metadata": {
  "kernelspec": {
   "display_name": "Python 3",
   "language": "python",
   "name": "python3"
  },
  "language_info": {
   "codemirror_mode": {
    "name": "ipython",
    "version": 3
   },
   "file_extension": ".py",
   "mimetype": "text/x-python",
   "name": "python",
   "nbconvert_exporter": "python",
   "pygments_lexer": "ipython3",
   "version": "3.7.3"
  }
 },
 "nbformat": 4,
 "nbformat_minor": 4
}
