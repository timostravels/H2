{
 "cells": [
  {
   "cell_type": "code",
   "execution_count": 5,
   "metadata": {},
   "outputs": [],
   "source": [
    "t = [\n",
    "1,\n",
    "30,\n",
    "60,\n",
    "120,\n",
    "180,\n",
    "240,\n",
    "300,\n",
    "360,\n",
    "420,\n",
    "480,\n",
    "540,\n",
    "1384,\n",
    "1443,\n",
    "1697,\n",
    "1912,\n",
    "2872,\n",
    "2979,\n",
    "3130,\n",
    "3250,\n",
    "3398,\n",
    "3512,\n",
    "4349,\n",
    "4747,\n",
    "6245,\n",
    "7169,\n",
    "7492,\n",
    "7702,\n",
    "8642,\n",
    "8791,\n",
    "9372,\n",
    "10012,\n",
    "]"
   ]
  },
  {
   "cell_type": "code",
   "execution_count": 3,
   "metadata": {},
   "outputs": [],
   "source": [
    "DoH = [\n",
    "0.9850,\n",
    "0.9666,\n",
    "0.9556,\n",
    "0.9413,\n",
    "0.9206,\n",
    "0.9078,\n",
    "0.8918,\n",
    "0.8867,\n",
    "0.8696,\n",
    "0.8582,\n",
    "0.8425,\n",
    "0.6907,\n",
    "0.6754,\n",
    "0.6195,\n",
    "0.5880,\n",
    "0.4465,\n",
    "0.4380,\n",
    "0.4264,\n",
    "0.4122,\n",
    "0.4179,\n",
    "0.3820,\n",
    "0.3386,\n",
    "0.3126,\n",
    "0.2563,\n",
    "0.2225,\n",
    "0.2164,\n",
    "0.2103,\n",
    "0.1898,\n",
    "0.1778,\n",
    "0.1733,\n",
    "0.1642,\n",
    "]"
   ]
  },
  {
   "cell_type": "code",
   "execution_count": 33,
   "metadata": {},
   "outputs": [
    {
     "data": {
      "application/vnd.jupyter.widget-view+json": {
       "model_id": "9b76cd7b02c544cf8b0cf1872a42b9a9",
       "version_major": 2,
       "version_minor": 0
      },
      "text/plain": [
       "interactive(children=(FloatSlider(value=0.55, description='EndDoH', max=0.9, min=0.2, step=0.05), Output()), _…"
      ]
     },
     "metadata": {},
     "output_type": "display_data"
    },
    {
     "data": {
      "text/plain": [
       "<function __main__.pltDoH(EndDoH)>"
      ]
     },
     "execution_count": 33,
     "metadata": {},
     "output_type": "execute_result"
    }
   ],
   "source": [
    "from scipy.interpolate import interp1d\n",
    "import matplotlib.pyplot as plt\n",
    "import numpy as np\n",
    "from IPython.html.widgets import *\n",
    "\n",
    "g = interp1d(DoH, t, kind='linear')\n",
    "\n",
    "def pltDoH(EndDoH):\n",
    "    plt.plot(t, DoH, 'o-', [g(0.9), g(EndDoH)], [0.9,EndDoH], 'or')\n",
    "    print('DoH = 90% were reached after ' + str(int(np.round(g(0.9),0))) + ' minutes.')\n",
    "    print('DoH = ' + str(int(100*EndDoH)) + '% were reached after ' + str(int(np.round(g(EndDoH),0))) + ' minutes.')\n",
    "    \n",
    "interact(pltDoH, EndDoH=(np.ceil(min(DoH)*10)/10,0.9,0.05))"
   ]
  }
 ],
 "metadata": {
  "kernelspec": {
   "display_name": "Python 3",
   "language": "python",
   "name": "python3"
  },
  "language_info": {
   "codemirror_mode": {
    "name": "ipython",
    "version": 3
   },
   "file_extension": ".py",
   "mimetype": "text/x-python",
   "name": "python",
   "nbconvert_exporter": "python",
   "pygments_lexer": "ipython3",
   "version": "3.7.7"
  }
 },
 "nbformat": 4,
 "nbformat_minor": 4
}
