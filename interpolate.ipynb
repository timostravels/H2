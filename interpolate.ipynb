{
 "cells": [
  {
   "cell_type": "code",
   "execution_count": 4,
   "metadata": {},
   "outputs": [],
   "source": [
    "t = [\n",
    "1,\n",
    "30,\n",
    "60,\n",
    "120,\n",
    "180,\n",
    "240,\n",
    "300,\n",
    "360,\n",
    "420,\n",
    "480,\n",
    "540,\n",
    "1384,\n",
    "1443,\n",
    "1697,\n",
    "1912,\n",
    "2872,\n",
    "2979,\n",
    "3130,\n",
    "3250,\n",
    "3398,\n",
    "3512,\n",
    "4349,\n",
    "4747,\n",
    "6245,\n",
    "7169,\n",
    "7492,\n",
    "7702,\n",
    "8642,\n",
    "8791,\n",
    "9372,\n",
    "10012,\n",
    "]"
   ]
  },
  {
   "cell_type": "code",
   "execution_count": 5,
   "metadata": {},
   "outputs": [],
   "source": [
    "DoH = [\n",
    "0.9850,\n",
    "0.9666,\n",
    "0.9556,\n",
    "0.9413,\n",
    "0.9206,\n",
    "0.9078,\n",
    "0.8918,\n",
    "0.8867,\n",
    "0.8696,\n",
    "0.8582,\n",
    "0.8425,\n",
    "0.6907,\n",
    "0.6754,\n",
    "0.6195,\n",
    "0.5880,\n",
    "0.4465,\n",
    "0.4380,\n",
    "0.4264,\n",
    "0.4122,\n",
    "0.4179,\n",
    "0.3820,\n",
    "0.3386,\n",
    "0.3126,\n",
    "0.2563,\n",
    "0.2225,\n",
    "0.2164,\n",
    "0.2103,\n",
    "0.1898,\n",
    "0.1778,\n",
    "0.1733,\n",
    "0.1642,\n",
    "]"
   ]
  },
  {
   "cell_type": "code",
   "execution_count": 24,
   "metadata": {},
   "outputs": [
    {
     "name": "stdout",
     "output_type": "stream",
     "text": [
      "DoH = 90% were reached after 269 minutes.\n",
      "DoH = 50% were reached after 2509 minutes.\n"
     ]
    },
    {
     "data": {
      "text/plain": [
       "[<matplotlib.lines.Line2D at 0x24a5752bd88>,\n",
       " <matplotlib.lines.Line2D at 0x24a57535048>]"
      ]
     },
     "execution_count": 24,
     "metadata": {},
     "output_type": "execute_result"
    },
    {
     "data": {
      "image/png": "[encoded data removed]",
      "text/plain": [
       "<Figure size 432x288 with 1 Axes>"
      ]
     },
     "metadata": {
      "needs_background": "light"
     },
     "output_type": "display_data"
    }
   ],
   "source": [
    "from scipy.interpolate import interp1d\n",
    "import matplotlib.pyplot as plt\n",
    "import numpy as np\n",
    "g = interp1d(DoH, t, kind='linear')\n",
    "print('DoH = 90% were reached after ' + str(int(np.round(g(0.9),0))) + ' minutes.')\n",
    "print('DoH = 50% were reached after ' + str(int(np.round(g(0.5),0))) + ' minutes.')\n",
    "\n",
    "plt.plot(t, DoH, 'o-', [g(0.9), g(0.5)], [0.9,0.5], 'or')"
   ]
  }
 ],
 "metadata": {
  "kernelspec": {
   "display_name": "Python 3",
   "language": "python",
   "name": "python3"
  },
  "language_info": {
   "codemirror_mode": {
    "name": "ipython",
    "version": 3
   },
   "file_extension": ".py",
   "mimetype": "text/x-python",
   "name": "python",
   "nbconvert_exporter": "python",
   "pygments_lexer": "ipython3",
   "version": "3.7.7"
  }
 },
 "nbformat": 4,
 "nbformat_minor": 4
}
