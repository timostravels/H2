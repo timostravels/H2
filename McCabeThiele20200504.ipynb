{
 "cells": [
  {
   "cell_type": "markdown",
   "metadata": {
    "Collapsed": "false"
   },
   "source": [
    "# McCabe Thiele Diagram für die Trennung von <br>H0-BT und H12-BT Gemischen aus dem Reaktionsteil der RD "
   ]
  },
  {
   "cell_type": "markdown",
   "metadata": {
    "Collapsed": "false"
   },
   "source": [
    "## 1. Vorbereitung"
   ]
  },
  {
   "cell_type": "markdown",
   "metadata": {
    "Collapsed": "false"
   },
   "source": [
    "### 1.1 Import der Python Bibliotheken"
   ]
  },
  {
   "cell_type": "code",
   "execution_count": 1,
   "metadata": {
    "Collapsed": "false"
   },
   "outputs": [],
   "source": [
    "import numpy as np\n",
    "import pandas as pd\n",
    "import matplotlib as mpl\n",
    "#mpl.rcParams['text.usetex'] = True\n",
    "import matplotlib.pyplot as plt\n",
    "from mpl_toolkits import mplot3d\n",
    "from scipy.interpolate import interp1d\n",
    "from scipy.interpolate import interp2d\n",
    "from scipy.optimize import fsolve\n",
    "from ipywidgets import interact\n",
    "import ipywidgets as widgets"
   ]
  },
  {
   "cell_type": "markdown",
   "metadata": {
    "Collapsed": "true"
   },
   "source": [
    "### 1.2 Konstanten für die Berechnungen"
   ]
  },
  {
   "cell_type": "code",
   "execution_count": 2,
   "metadata": {
    "Collapsed": "false"
   },
   "outputs": [],
   "source": [
    "R = 8.314471\n",
    "T_std = 298.15"
   ]
  },
  {
   "cell_type": "code",
   "execution_count": 3,
   "metadata": {
    "Collapsed": "false"
   },
   "outputs": [],
   "source": [
    "M_H12BT=194.357; M_H0BT=182.261; M_H2=2.016"
   ]
  },
  {
   "cell_type": "code",
   "execution_count": 4,
   "metadata": {
    "Collapsed": "false"
   },
   "outputs": [],
   "source": [
    "def T_CtoK(T):\n",
    "    return T + 273.15\n",
    "def T_KtoC(T):\n",
    "    return T - 273.15"
   ]
  },
  {
   "cell_type": "code",
   "execution_count": 5,
   "metadata": {
    "Collapsed": "false"
   },
   "outputs": [],
   "source": [
    "def rho_H2(p, T): # T_in_K and p_in_mbar\n",
    "    return p*100 * M_H2/1000 / (R * T) # in kg/m^3"
   ]
  },
  {
   "cell_type": "markdown",
   "metadata": {
    "Collapsed": "false"
   },
   "source": [
    "## 2. Function Definition: Plot McCabeThiele"
   ]
  },
  {
   "cell_type": "code",
   "execution_count": 6,
   "metadata": {
    "Collapsed": "false"
   },
   "outputs": [],
   "source": [
    "def plotMcCabeThiele(T, xF, xB, q, ntimes_RGmin, MuEff):\n",
    "    mpl.rcParams['axes.linewidth'] = 2 #set the value globally\n",
    "    mpl.rcParams['font.size'] = 16\n",
    "    mpl.rcParams['axes.xmargin'] = 0\n",
    "    mpl.rcParams['axes.ymargin'] = 0\n",
    "\n",
    "    \n",
    "    f, (ax1, ax2) = plt.subplots(1, 2, figsize=(22,10)) # plt.figure(figsize=(width,height in inch))\n",
    "    #rect1 = ([0.,0.,.45,1]) # rect = [left, bottom, width, height]\n",
    "    #ax1 = f.add_axes(rect1)\n",
    "    ax1.set_title('McCabe Thiele for H0-/H12-BT at ~{:3.0f}°C'.format(T))\n",
    "    ax1.set_xlim(0,1)\n",
    "    ax1.set_ylim(0,1)\n",
    "    ax1.xaxis.set_ticks(np.arange(0, 1.1, 0.5))\n",
    "    ax1.yaxis.set_ticks(np.arange(0, 1.1, 0.5))\n",
    "    ax1.set_xlabel('$x_{H12-BT}$', fontsize=22, fontweight='bold')\n",
    "    ax1.set_ylabel('$y_{H12-BT}$ from ' + typ, fontsize=22, style='italic')\n",
    "    plt.grid(b=True, which='major', color='#999999', linestyle='-', alpha=0.2)\n",
    "    ax1.minorticks_on()\n",
    "    plt.grid(b=True, which='minor', color='#999999', linestyle='-', alpha=0.2)\n",
    "    # ax.tick_params(axis=\"x\", labelsize=16) # redundant\n",
    "    # ax.tick_params(axis=\"y\", labelsize=16) # redundant\n",
    "\n",
    "\n",
    "    # plot x=y\n",
    "    ax1.plot([0,1],[0,1], '-k', label='liq-composition')\n",
    "\n",
    "    # plot VLE Gleichgewichtskurve\n",
    "    xH12 = np.linspace(0,1, 100)\n",
    "    yH12 = VLE(T,xH12)\n",
    "    ax1.plot(xH12,yH12, '-b', label='vap-composition')\n",
    "\n",
    "    # plot xF\n",
    "    ax1.plot(xF, xF, marker='o', markersize=5, color='green')\n",
    "    ax1.text(xF+0.01, xF-0.01, 'xF', color='green', fontsize=14)\n",
    "\n",
    "    # plot xB\n",
    "    ax1.plot(xB, xB, marker='o', markersize=5, color='red')\n",
    "    ax1.text(xB+0.01, xB-0.01, 'xB', color='red', fontsize=14)\n",
    "\n",
    "    # plot xD\n",
    "    xD = VLE(T,xF)\n",
    "    ax1.plot(xD, xD, marker='o', markersize=5, color='red')\n",
    "    ax1.text(xD+0.01, xD-0.01, 'xD', color='red', fontsize=14)\n",
    "    \n",
    "    # plot xFqVLE - Einspeiselinie\n",
    "    ax1.plot(*xFqVLE(T,xF,q), color='grey', linestyle='--', linewidth=1, clip_on=True)\n",
    "    ax1.text(xFqVLE(T,xF,q)[0][0]+0.01, 0+0.01, 'xF/q', color='grey', fontsize=14, clip_on=True)\n",
    "\n",
    "    # plot operating line at RGmin\n",
    "    xFqVLE_intersect = xFqVLE(T,xF,q)\n",
    "    RGmin = f_RGmin(xFqVLE_intersect,xB)\n",
    "    ax1.plot([xB,xFqVLE_intersect[0][1]],[xB, xFqVLE_intersect[1][1]], color='grey', linestyle='--', linewidth=1, label='R_(G,min)={:3.1f}'.format(RGmin))\n",
    "    \n",
    "    # plot operating line in rectifying section at RG\n",
    "    RG = ntimes_RGmin * RGmin\n",
    "    xIntersect = line_intersection(([xB,0],[xB,-xB/RG]), ([xF/q,xF],[0,xF]))[0] # [0] gibt den ersten Wert des Schnittpunktes also den x-Wert zurück\n",
    "    yIntersect = line_intersection(([xB,0],[xB,-xB/RG]), ([xF/q,xF],[0,xF]))[1] # [1] gibt den zweitn Wert des Schnittpunktes also den y-Wert zurück\n",
    "    ax1.plot([xIntersect, xB], [yIntersect, xB], linestyle='-', linewidth='2', color='orange', label='op_line_rect with R_G={:3.1f}'.format(RG))\n",
    "    \n",
    "    # plot operating line in stripping section at RG\n",
    "    # color picker with normalized rgb values: http://doc.instantreality.org/tools/color_calculator/\n",
    "    ax1.plot([xIntersect, xD], [yIntersect, xD], linestyle='-', linewidth='2', color=[0.788,0.474,0.13], label='op_line_strip with R_G={:3.1f}'.format(RG))\n",
    "    \n",
    "    # plot Stufen\n",
    "    df_Stufen, n_Stufen = make_Stufen(T, xF, xB, q, ntimes_RGmin, MuEff)\n",
    "    ax1.plot(df_Stufen['x'], df_Stufen['y'], color='green', linewidth='1', label='# stages = {:.0f}'.format((df_Stufen.shape[0]-1)/2)) # no format: https://mkaz.blog/code/python-string-format-cookbook/\n",
    "    \n",
    "    # Additional text in plot\n",
    "    P = P_VLE(T, xD)\n",
    "    dp = 0.058*n_Stufen # [Cannon2013 pdf.8]\n",
    "    T_Kopf = T_VLE(P,xD).item(0)\n",
    "    T_Botm = T_VLE(P+dp,xB).item(0)\n",
    "    str_dp = 'Druckverlust über die Kolonne mit {:1.0f} Stufen'.format(n_Stufen) + ' beträgt sehr grob {:3.2f}mbar.\\n'.format(dp) # no format: https://mkaz.blog/code/python-string-format-cookbook/\n",
    "    str_T_Kopf = 'Der Kondensatordruck müsste auf {:3.0f}mbar eingestellt werden'.format(P) + ' bei $T_{Kopf}$' + '={:3.0f}°C.\\n'.format(T_Kopf) # no format: https://mkaz.blog/code/python-string-format-cookbook/\n",
    "    str_T_Botm = 'Mit geg. Druckverlust und bei xB ist $T_{Sumpf}$' + '={:3.0f}°C.'.format(T_Botm)\n",
    "    ax1.text(0.2,0.1,str_dp + str_T_Kopf + str_T_Botm, color='grey', fontweight='normal', fontsize=11, clip_on=True)\n",
    "    \n",
    "    ax1.margins(x=0, y=-0.25)\n",
    "    ax1.legend(loc='upper left', frameon=True)\n",
    "    \n",
    "    ###################################################################################################################################################################\n",
    "    Umsatz = 1 - xB\n",
    "    mLOHC = mLOHC_pro_mH2(Umsatz)\n",
    "    eta_FC = 0.5\n",
    "    Vac_Leistungsaufnahme = 157.3\n",
    "    \n",
    "    ax2.set_title('Energy demands of the RD at ~{:3.0f}°C'.format(T))\n",
    "    ax2.set_xlabel('Contributors', fontsize=22)\n",
    "    ax2.set_ylabel('Energy demands in $\\\\frac{kJ}{g_{H2}}$', fontsize=22)\n",
    "    ax2.set_xlim(-.5,5.5)\n",
    "    ax2.set_ylim(0,120)\n",
    "    data = {'$LHV_{H2}$': LHV_pro_mH2,\n",
    "            '$Q_{preheat}$': Aufwaermenthalpie(mLOHC, T_CtoK(T)),\n",
    "            '$Q_{reboil}$': Aufdampfenthalpie(mLOHC, RG),\n",
    "            '$Q_{off,FC}$': FC_Enthalpieverlust(eta_FC), \n",
    "            '$\\\\Delta H_{r}$': dHr(T) / M_H2,\n",
    "            '$W_{vacuum}$': Vakuum_E_Verbrauch( VLE(T,xF), T, Vac_Leistungsaufnahme),}\n",
    "    group_data = list(data.values())\n",
    "    group_names = list(data.keys())\n",
    "    ymax = np.ceil(np.max(group_data)/25)*25\n",
    "    ax2.set_ylim(0, ymax) # set new max if one of the values was higher than 120 kJ/g_H2\n",
    "    ax2.yaxis.set_ticks(np.arange(0, ymax, 25))\n",
    "    ax2.bar(group_names, group_data, color='k', align='center', width=0.7)\n",
    "    \n",
    "    if Aufdampfenthalpie(mLOHC, RG) + Vakuum_E_Verbrauch( VLE(T,xF), T, Vac_Leistungsaufnahme) >= LHV_pro_mH2: # dark red no go!\n",
    "        warning = '$ Q_{reboil} + Q_{pre} + W_{vac} > LHV_{H2} $'\n",
    "        ax2.text(5.2,0.95*ymax, warning, ha='right', va='center', color=[0.839, 0, 0.078], fontweight='bold', fontsize=16, clip_on=True)\n",
    "        ax2.set_facecolor((0.839, 0, 0.078, 0.4))\n",
    "    elif Aufdampfenthalpie(mLOHC, RG) >= FC_Enthalpieverlust(eta_FC): # light red warning\n",
    "        warning = '$Q_{reboil} > Q_{off,FC}$'\n",
    "        ax2.text(5.2,0.95*ymax, warning, ha='right', va='center', color=[1, 0.101, 0.101], fontweight='bold', fontsize=16, clip_on=True)        \n",
    "        ax2.set_facecolor((1, 0.101, 0.101, 0.4))\n",
    "    elif Aufdampfenthalpie(mLOHC, RG) <= dHr(T) / M_H2: # yellow hint\n",
    "        warning = '$Q_{reboil} < \\Delta H_r$'\n",
    "        ax2.text(5.2,0.95*ymax, warning, ha='right', va='center', color=[1, 0.819, 0.219], fontweight='bold', fontsize=16, clip_on=True)  \n",
    "        ax2.set_facecolor((1, 0.996, 0.101, 0.4))\n",
    "    \n",
    "    #f.savefig(GCname + \".png\", dpi=400)"
   ]
  },
  {
   "cell_type": "markdown",
   "metadata": {
    "Collapsed": "true"
   },
   "source": [
    "## 3. Function Definition: Trennfaktor, VLE"
   ]
  },
  {
   "cell_type": "markdown",
   "metadata": {
    "Collapsed": "true"
   },
   "source": [
    "#### Trennfaktor:\n",
    "$\\alpha =  \\frac{   {\\gamma_{H12BT}(x_{H12BT}, T)}  \\cdot  {p^{LV}_{H12BT}(T)}}      {   {\\gamma_{H0BT}(x_{H0BT}, T)}  \\cdot  {p^{LV}_{H0BT}(T)}   } = a + b x + c T + d  x T + e x^2 + f  T^2 $ "
   ]
  },
  {
   "cell_type": "code",
   "execution_count": 7,
   "metadata": {
    "Collapsed": "false"
   },
   "outputs": [
    {
     "name": "stdout",
     "output_type": "stream",
     "text": [
      "Trennfaktor bei Berechnung mit UNIFAC_D bei T= 200°C und xH12=0.5 ist alpha=1.4693780801775285.\n"
     ]
    }
   ],
   "source": [
    "def Trennfaktor(TinC, xH12BT): # Dampfdruckdaten von MG und UNIFAC\n",
    "    if typ == 'UNIFAC':\n",
    "        popt = [3.2630900297436662, -3.004295927930803, -0.005414768240235719, 0.004139908035693467, 0.7525345797528048, 3.417202183366236e-06]\n",
    "    elif typ == 'UNIFAC_D':\n",
    "        popt = [ 2.2602772128508835, -0.3990448060046183, -0.005559122341413845, 0.005218818733797906, -0.5279084101049865, 3.263574193954477e-06]    \n",
    "    elif typ == 'experimental_fit':\n",
    "        popt = [ 27.39815102908694, -17.149527717279845, -0.15095897708706832, 0.047650488219361395, 3.6459997204529606, 0.0002145007584464491]\n",
    "    else:\n",
    "        print('No type of calculating alpha was specified. Specify as \\'UNIFAC\\' or \\'experimental_fit\\'')\n",
    "    \n",
    "    a, b, c, d, e, f = popt\n",
    "    T = TinC\n",
    "    x = xH12BT\n",
    "    alpha = a  +  b*x  +  c*T + d*x*T + e*x**2 + f*T**2  # quadratic function alpha = f(xH12BT, T)\n",
    "    return alpha\n",
    "\n",
    "T = 200\n",
    "typ = 'UNIFAC_D'\n",
    "print('Trennfaktor bei Berechnung mit ' + typ + ' bei T= {:3.0f}°C und xH12=0.5 ist alpha='.format(T) + str(Trennfaktor(T,0.5)) + '.')"
   ]
  },
  {
   "cell_type": "markdown",
   "metadata": {
    "Collapsed": "true"
   },
   "source": [
    "#### Gleichgewichtskurve\n",
    "$y_{H12} = \\frac{\\alpha \\cdot x_{H12}}{1+x_{H12} \\cdot \\left(\\alpha-1 \\right)}= \\frac{\\alpha(T,x_{H12}) \\cdot x_{H12}}{1+x_{H12} \\cdot \\left(\\alpha \\left( T,x_{H12} \\right )-1 \\right)}$"
   ]
  },
  {
   "cell_type": "code",
   "execution_count": 8,
   "metadata": {
    "Collapsed": "false"
   },
   "outputs": [
    {
     "name": "stdout",
     "output_type": "stream",
     "text": [
      "Der Dampfanteil von H12-BT in der Trennstufe über dem Feed bei T= 200°C und xH12F=0.60 ist yH12F=0.6888292895465565.\n"
     ]
    }
   ],
   "source": [
    "def VLE(TinC, xH12):\n",
    "    alpha = Trennfaktor(TinC, xH12)\n",
    "    yH12 = alpha * xH12 / (  1 + xH12*( alpha-1 )  )\n",
    "    return yH12\n",
    "\n",
    "xF = 0.6\n",
    "print('Der Dampfanteil von H12-BT in der Trennstufe über dem Feed bei T= {:3.0f}°C und xH12F={:3.2f} ist yH12F='.format(T,xF) + str(VLE(T,xF)) + '.' )"
   ]
  },
  {
   "cell_type": "code",
   "execution_count": 9,
   "metadata": {
    "Collapsed": "false"
   },
   "outputs": [
    {
     "name": "stdout",
     "output_type": "stream",
     "text": [
      "Maximum alpha=1.48 at xH12=61%\n",
      "Azeotrop would be at xH12=0%\n"
     ]
    }
   ],
   "source": [
    "xH12 = np.linspace(0,1, 100)\n",
    "yH12 = VLE(T, xH12)\n",
    "print('Maximum alpha={:3.2f}'.format(np.max(Trennfaktor(T,xH12))) + ' at xH12={:0.0f}' .format(xH12[np.argmax(Trennfaktor(T,xH12))]*100) + '%')\n",
    "print('Azeotrop would be at xH12={:0.0f}'.format(xH12[np.argmin(abs(Trennfaktor(T,xH12)-1))]*100) + '%')"
   ]
  },
  {
   "cell_type": "markdown",
   "metadata": {
    "Collapsed": "true"
   },
   "source": [
    "## 4. Function Definition: Zeichnen McCabe-Thiele-Diagram"
   ]
  },
  {
   "cell_type": "markdown",
   "metadata": {
    "Collapsed": "true"
   },
   "source": [
    "#### Minimales Aufdampfverhältnis\n",
    "[Mersmann06 p.250]<br>\n",
    " * Die RD ist eine reine Abtriebskolonne. Daher finden das Erstellen des McCabe Thiele Diagramms über den Abtriebsteil statt.\n",
    " * Für die Arbeitslienie des Abtriebsteils folgt aus den Mengen und Stoffbilanzen um den Kolonnensumpf ergibt sich folgende Geradengleichung:\n",
    "   * $y =\\frac{R_G+1}{R_G} \\cdot x-\\frac{1}{R_G}\\cdot x_B$\n",
    " * Die Arbeitslinien dürfen die Gleichgewichtskurve weder berühren noch schneiden.\n",
    " * Daraus ergibt sich, dass die Gerade eine maximale Steigung y=mx+t haben darf. Die maximale Steigung m ist für eine Gerade erreicht die durch die Punkte ``[xB,xB]`` und ``[xF,VLE(xF]`` geht (gilt für q=1).\n",
    " * Für ``x=0`` kann der y-Achsenabschnitt t der Geradengleichung $R_{G,min}$ liefern:\n",
    "   * $t =  \\frac{R_G+1}{R_G} \\cdot 0 -\\frac{1}{R_G}\\cdot x_B$\n",
    "   * $R_{G,min} = \\frac{x_B}{-t}$"
   ]
  },
  {
   "cell_type": "markdown",
   "metadata": {
    "Collapsed": "false"
   },
   "source": [
    "<img src=\"https://encrypted-tbn0.gstatic.com/images?q=tbn%3AANd9GcT2koLZhCK2nBa85FESgtrYNCKtrvmov21qFit5RgnWS6M7bf9A&usqp=CAU\" width=\"250\" align=\"left\">"
   ]
  },
  {
   "cell_type": "code",
   "execution_count": 10,
   "metadata": {
    "Collapsed": "false"
   },
   "outputs": [
    {
     "name": "stdout",
     "output_type": "stream",
     "text": [
      "Die Schnittpunktgerade von der x-Achse bei [xF/q,0] durch den Feedpunkt [xF,xF] bis zur VLE-Kurve bei T= 200°C, xH12F=0.60 und dem kalorischen Zustand des Feeds q = 1.0 ist Schnittpunktsgerade=[[0.6, 0.6], [0, 0.6888292895465565]].\n"
     ]
    }
   ],
   "source": [
    "# Gibt die Schnittpunktsgerade zurück, die bei der x-Achse [xF/q,0] über [xF,xF] geht bis dahin wo das VLE geschnitten wird \n",
    "\n",
    "def xFqVLE(T, xF, q):\n",
    "    \n",
    "    def VLE_T(xH12):\n",
    "        return VLE(T, xH12)\n",
    "    \n",
    "    if q == 1:\n",
    "        line_xFqVLE = [[xF,xF], [0,VLE_T(xF)]]\n",
    "    elif q == 0:    \n",
    "        xH12 = np.linspace(0,1, 1000)\n",
    "        yH12 = VLE_T(xH12)\n",
    "        g = interp1d(yH12, xH12, kind='linear')\n",
    "        line_xFqVLE = [[1,g(xF).item(0)],[xF, xF]]\n",
    "    else:\n",
    "        mt_line_xFqVLE = np.polyfit([xF/q, xF], [0, xF], 1)\n",
    "        line_mt = np.poly1d(mt_line_xFqVLE) \n",
    "        \n",
    "        def findIntersection(fun1,fun2,x0):\n",
    "            return fsolve(lambda x : fun1(x) - fun2(x),x0)\n",
    "\n",
    "        intersect_xH12 = findIntersection(line_mt,VLE_T,0.5).item(0)\n",
    "        intersect_yH12 = line_mt(intersect_xH12).item(0)\n",
    "\n",
    "        line_xFqVLE = [[xF/q,intersect_xH12], [0,intersect_yH12]]\n",
    "    return line_xFqVLE # Schnittpunktsgerade durch zwei Punkte mit x=[xF/q,0] und y=[xF,xF]\n",
    "\n",
    "q = 1\n",
    "print('Die Schnittpunktgerade von der x-Achse bei [xF/q,0] durch den Feedpunkt [xF,xF] bis zur VLE-Kurve bei T= {:3.0f}°C, xH12F={:3.2f} und dem kalorischen Zustand des Feeds q = {:2.1f} ist Schnittpunktsgerade='.format(T,xF,q) + str(xFqVLE(T, xF, q)) + '.' )"
   ]
  },
  {
   "cell_type": "code",
   "execution_count": 11,
   "metadata": {
    "Collapsed": "false"
   },
   "outputs": [
    {
     "name": "stdout",
     "output_type": "stream",
     "text": [
      "Das minimale Aufdampfverhältnis ergibt sich aus dem y-Achsenabschnitt einer Geraden durch die Punkte [Schnittpunktsgerade_von_vorher, VLE-Kurve] und [xB,xB] bei T=200°C, xH12F=0.60, q=1.0 und xB=0.05 zu RG=6.191651456491269.\n"
     ]
    }
   ],
   "source": [
    "def f_RGmin(xFqVLE_intersect,xB):\n",
    "    intersect_xH12 = xFqVLE_intersect[0][1] # x von da wo die Einspeisegerade die Gleichgewichtskurve schneidet\n",
    "    intersect_yH12 = xFqVLE_intersect[1][1] # y von da wo die Einspeisegerade die Gleichgewichtskurve schneidet\n",
    "    \n",
    "    # Die Arbeitslinie beim minimalen Aufdampfverhältnis ist eine Gerade durch die d. [x,y] gegebenen Punkte [xB,xB] und [intersect_xH12,intersect_yH12]\n",
    "    m_RGmin, t_RGmin = np.polyfit([xB, intersect_xH12], [xB, intersect_yH12], 1) # fit a polynomial of order 1 so y=mx+t to the two given points\n",
    "    RGmin = xB/-t_RGmin\n",
    "    return RGmin\n",
    "\n",
    "xB = 0.05\n",
    "xFqVLE_intersect = xFqVLE(T, xF, q)\n",
    "print('Das minimale Aufdampfverhältnis ergibt sich aus dem y-Achsenabschnitt einer Geraden durch die Punkte [Schnittpunktsgerade_von_vorher, VLE-Kurve] und [xB,xB] bei T={:3.0f}°C, xH12F={:3.2f}, q={:2.1f} und xB={:3.2f} zu RG='.format(T,xF,q, xB) + str(f_RGmin(xFqVLE_intersect, xB)) + '.' )"
   ]
  },
  {
   "cell_type": "markdown",
   "metadata": {
    "Collapsed": "true"
   },
   "source": [
    "#### Arbeitslinien mit eingestelltem Aufdampfverhältnis"
   ]
  },
  {
   "cell_type": "code",
   "execution_count": 12,
   "metadata": {
    "Collapsed": "false"
   },
   "outputs": [
    {
     "name": "stdout",
     "output_type": "stream",
     "text": [
      "Die Einspeiselinie wurde vorher bereits durch zwei Punkte defniiert als Schnittpunktgerade von der x-Achse bei [xF/q,0] durch den Feedpunkt [xF,xF] bis zur VLE-Kurve.\n",
      "Diese Definition gibt eine Funktion zurück, mit deren Hilfe man einen y-Wert auf der Einspeiselinie bei gegebenem x-Wert berechnen lassen kann.\n",
      "So ist bei für die Punkte in x_Einspeiselinie=[0, 0.69, 0.7, xF/q, 0.9] folgende y_Einspeiselinie=0.6 (bei q=1 und einer senkrechten Gerade gibts nur einen Wert bei y=xF zurück)\n"
     ]
    }
   ],
   "source": [
    "def Einspeiselinie(T,xF,q):\n",
    "    if q == 1:\n",
    "         def linie(xH12):\n",
    "            return xF\n",
    "    else:\n",
    "        def linie(xH12):\n",
    "            g = interp1d( *xFqVLE(T,xF,q), fill_value='extrapolate')\n",
    "            return g(xH12)\n",
    "    return linie\n",
    "\n",
    "print('Die Einspeiselinie wurde vorher bereits durch zwei Punkte defniiert als Schnittpunktgerade von der x-Achse bei [xF/q,0] durch den Feedpunkt [xF,xF] bis zur VLE-Kurve.')\n",
    "print('Diese Definition gibt eine Funktion zurück, mit deren Hilfe man einen y-Wert auf der Einspeiselinie bei gegebenem x-Wert berechnen lassen kann.')\n",
    "print('So ist bei für die Punkte in x_Einspeiselinie=[0, 0.69, 0.7, xF/q, 0.9] folgende y_Einspeiselinie=', end='')\n",
    "print(str(Einspeiselinie(T,xF,q)(np.array([0, 0.69, 0.7, xF/q, 0.9]))) + ' (bei q=1 und einer senkrechten Gerade gibts nur einen Wert bei y=xF zurück)')"
   ]
  },
  {
   "cell_type": "code",
   "execution_count": 13,
   "metadata": {
    "Collapsed": "false"
   },
   "outputs": [
    {
     "name": "stdout",
     "output_type": "stream",
     "text": [
      "Die Arbeitslinie im Abtriebsteil geht durch die Punkte [xB,xB] und durch einen PUnkte auf der Einspeiselinie zwischen [xF,xF] und VLE-Kurve.\n",
      "Bei T=200°C, xF=0.60, xB=0.05, q=1.0, RGmin=6.2, und dem gewählten n=RG/RGmin=1.3 lässt sich für x=[0, xB, 0.695, 0.7, 0.9] folgende Werte auf der Abtriebsgeraden berechnen y=[-0.00621184  0.05        0.77513272  0.7807539   1.00560125]\n"
     ]
    }
   ],
   "source": [
    "def op_line_rect(T,xF,xB,q, ntimes_RGmin):\n",
    "    xFqVLE_intersect = xFqVLE(T, xF, q)\n",
    "    RGmin = f_RGmin(xFqVLE_intersect, xB)\n",
    "    RG = ntimes_RGmin * RGmin\n",
    "    def linie(xH12):\n",
    "        xH12 = np.array(xH12)\n",
    "        return (RG+1)/RG * xH12 - 1/RG * xB\n",
    "    return linie\n",
    "\n",
    "xFqVLE_intersect = xFqVLE(T, xF, q)\n",
    "RGmin = f_RGmin(xFqVLE_intersect, xB)\n",
    "ntimes_RGmin = 1.3\n",
    "print('Die Arbeitslinie im Abtriebsteil geht durch die Punkte [xB,xB] und durch einen PUnkte auf der Einspeiselinie zwischen [xF,xF] und VLE-Kurve.')\n",
    "print('Bei T={:3.0f}°C, xF={:3.2f}, xB={:3.2f}, q={:2.1f}, RGmin={:3.1f}, und dem gewählten n=RG/RGmin={:2.1f} lässt sich für x=[0, xB, 0.695, 0.7, 0.9] folgende Werte auf der Abtriebsgeraden berechnen y='.format(T,xF,xB,q,RGmin,ntimes_RGmin) + str(op_line_rect(T,xF,xB,q, ntimes_RGmin)([0, xB, 0.695, 0.7, 0.9])))"
   ]
  },
  {
   "cell_type": "markdown",
   "metadata": {
    "Collapsed": "true"
   },
   "source": [
    "#### Zwei Arten den Schnittpunkt zweier Linien zu finden:\n",
    " - 2020-04-21 -> Beide liefern erleichternderweise das selbe Ergebnis\n",
    "   * line_intersection: Beide Linien werden nur durch jeweils zwei Punkte [x1,x2] und  [y1,y2] definiert. Diese Methode erscheint etwas einfacher.\n",
    "   * findIntersect_...: Beide Linien werden durch aufwändige Funktions-Definition (incl. Ausnahmeregelungen für q=1 und q=0) spezifiziert: Die `def` der Geraden sind im Unterpunkt 'Arbeitslinien mit eingestelltem Aufdampfverhältnis' zu finden. Der Schnittpunkt ergibt sich aus einer der Nullstelle der Differenz beider Funktionen."
   ]
  },
  {
   "cell_type": "code",
   "execution_count": 14,
   "metadata": {
    "Collapsed": "false"
   },
   "outputs": [
    {
     "data": {
      "text/plain": [
       "(6.191651456491269,\n",
       " 8.04914689343865,\n",
       " -0.006211838429828887,\n",
       " [0.6, 0.6683302227281178])"
      ]
     },
     "execution_count": 14,
     "metadata": {},
     "output_type": "execute_result"
    }
   ],
   "source": [
    "# ( [A_line1x,B_line1x] , [A_line1y,B_line1y] )  ,  ( [C_line2x,D_line3x] , [C_line2y,D_line2y] )\n",
    "# where the straight line1 is defined by points A and B\n",
    "# where the straight line2 is defined by points C and D\n",
    "\n",
    "def line_intersection(line1, line2):\n",
    "    xdiff = (line1[0][0] - line1[0][1], line2[0][0] - line2[0][1])\n",
    "    ydiff = (line1[1][0] - line1[1][1], line2[1][0] - line2[1][1])\n",
    "\n",
    "    def det(a, b):\n",
    "        return a[0] * b[1] - a[1] * b[0]\n",
    "\n",
    "    div = det(xdiff, ydiff)\n",
    "    if div == 0:\n",
    "       raise Exception('lines do not intersect')\n",
    "\n",
    "    # egal wie rum line[1][0] oder line[0][1]\n",
    "    # lin1 = ([ line1[0][0], line1[1][0] ] , [line1[0][1], line1[1][1]] )\n",
    "    # lin2 = ([ line2[0][0], line2[1][0] ] , [line2[0][1], line2[1][1]] )\n",
    "    \n",
    "    d = (det(*line1), det(*line2))\n",
    "    x_intersect = det(d, xdiff) / div\n",
    "    y_intersect = det(d, ydiff) / div\n",
    "    return [x_intersect, y_intersect]\n",
    "\n",
    "# line_intersection(  ( [A_line1x,B_line1x] , [A_line1y,B_line1y] )  ,  ( [C_line2x,D_line3x] , [C_line2y,D_line2y] )  )\n",
    "RG = ntimes_RGmin * RGmin\n",
    "RGmin, RG, -xB/RG, line_intersection(  ( [xB,0] , [xB,-1/RG*xB] )  ,  ( [xF,xF/q] , [xF,0] )  )"
   ]
  },
  {
   "cell_type": "code",
   "execution_count": 15,
   "metadata": {
    "Collapsed": "false"
   },
   "outputs": [
    {
     "data": {
      "text/plain": [
       "[array(0.53922079), 0.6]"
      ]
     },
     "execution_count": 15,
     "metadata": {},
     "output_type": "execute_result"
    }
   ],
   "source": [
    "def findIntersect_Einespeiselinie_op_line_rect(T,xF,xB,q,ntimes_RGmin, fun1,fun2):\n",
    "    xH12 = np.linspace(0,1,2)\n",
    "    \n",
    "    einsp_ = fun1(T,xF,q)\n",
    "    op_re_ = fun2(T,xF,xB,q,ntimes_RGmin)\n",
    "    Dy = einsp_(xH12) - op_re_(xH12)\n",
    "    \n",
    "    g = interp1d( Dy,xH12, fill_value='extrapolate')\n",
    "    \n",
    "    xIntersect = g(0) # Dy soll 0 sein. \n",
    "    yIntersect = op_re_(xIntersect)\n",
    "    \n",
    "    return [xIntersect, yIntersect]\n",
    "\n",
    "findIntersect_Einespeiselinie_op_line_rect(T,xF,xB,q,ntimes_RGmin, Einspeiselinie, op_line_rect)"
   ]
  },
  {
   "cell_type": "markdown",
   "metadata": {
    "Collapsed": "true"
   },
   "source": [
    "#### Arbeitslinie verpackt in Funktionen die wahlweise x- und y- Werte zurückgeben können \n",
    " "
   ]
  },
  {
   "cell_type": "markdown",
   "metadata": {
    "Collapsed": "true"
   },
   "source": [
    "##### Definition der gesamten Operating-Line durch die 5 Punkte durch die sie geht"
   ]
  },
  {
   "cell_type": "code",
   "execution_count": 16,
   "metadata": {
    "Collapsed": "false"
   },
   "outputs": [
    {
     "name": "stdout",
     "output_type": "stream",
     "text": [
      "Die Operating Linie wird durch die 5 Punkte [0,0], [xB,xB], [Einspeiselinie, Abtriebsgerade], [xD,xD], [1,1] definiert. \n",
      "Damit ist bei T=200°C, xF=0.60, xB=0.05, q=1.0, RG=8.0 x_op_line=[0, 0.05, 0.5895354904023531, 0.6888292895465565, 1] und y_op_line=[0, 0.05, 0.6592988877199993, 0.6888292895465565, 1]\n"
     ]
    }
   ],
   "source": [
    "# operating lines\n",
    "def oplines(T, xF, xB, q, ntimes_RGmin):\n",
    "    xD = VLE(T,xF)\n",
    "    xFqVLE_intersect = xFqVLE(T, xF, q)\n",
    "    RGmin = f_RGmin(xFqVLE_intersect, xB)\n",
    "    RG = ntimes_RGmin * RGmin\n",
    "    xIntersect = line_intersection(([xB,0],[xB,-xB/RG]), ([xF/q,xF],[0,xF]))[0] # [0] gibt den ersten Wert des Schnittpunktes also den x-Wert zurück\n",
    "    yIntersect = line_intersection(([xB,0],[xB,-xB/RG]), ([xF/q,xF],[0,xF]))[1] # [1] gibt den zweitn Wert des Schnittpunktes also den y-Wert zurück\n",
    "    return [[ 0, xB, xIntersect, xD, 1 ]  ,  [ 0, xB, yIntersect, xD, 1 ]]\n",
    "\n",
    "print('Die Operating Linie wird durch die 5 Punkte [0,0], [xB,xB], [Einspeiselinie, Abtriebsgerade], [xD,xD], [1,1] definiert. \\nDamit ist bei T={:3.0f}°C, xF={:3.2f}, xB={:3.2f}, q={:2.1f}, RG={:3.1f}'.format(T,xF,xB,q,RG) + ' x_op_line=' + str(oplines(200,0.6,0.05,0.85,1.3)[0]) + ' und y_op_line=' + str(oplines(200,0.6,0.05,0.85,1.3)[1]))"
   ]
  },
  {
   "cell_type": "markdown",
   "metadata": {
    "Collapsed": "true"
   },
   "source": [
    "##### Rückgabe eines y-Wertes auf der Operating-Line für einen vorgegebenen x-Wert"
   ]
  },
  {
   "cell_type": "code",
   "execution_count": 17,
   "metadata": {
    "Collapsed": "false"
   },
   "outputs": [
    {
     "name": "stdout",
     "output_type": "stream",
     "text": [
      "Für einen gegebenen x-Wert=0.1 bei T=200°C, xF=0.60, xB=0.05, q=1.0, ntimes_RGmin=1.3berechnet sich y_op_line=0.09447461726626916\n"
     ]
    }
   ],
   "source": [
    "def oplines_interp_y(T, xF, xB, q, ntimes_RGmin, y):\n",
    "    xx = oplines(T, xF, xB, q, ntimes_RGmin)[0]\n",
    "    yy = oplines(T, xF, xB, q, ntimes_RGmin)[1]\n",
    "    g = interp1d(yy,xx)\n",
    "    x = g(y)\n",
    "    return x\n",
    "\n",
    "print('Für einen gegebenen x-Wert=0.1 bei T={:3.0f}°C, xF={:3.2f}, xB={:3.2f}, q={:2.1f}, ntimes_RGmin={:3.1f}'.format(T,xF,xB,q,ntimes_RGmin) + 'berechnet sich y_op_line=' + str(oplines_interp_y(T,xF,xB,q,ntimes_RGmin,   0.1)))"
   ]
  },
  {
   "cell_type": "markdown",
   "metadata": {
    "Collapsed": "true"
   },
   "source": [
    "##### Zeige, dass die Berechnung von y-Werten auf gegebene x-Werte auf der Operating-Line richtig funktioniert"
   ]
  },
  {
   "cell_type": "code",
   "execution_count": 18,
   "metadata": {
    "Collapsed": "false"
   },
   "outputs": [
    {
     "data": {
      "application/vnd.jupyter.widget-view+json": {
       "model_id": "ccfa188f84864c6da1c27cacf0e541bd",
       "version_major": 2,
       "version_minor": 0
      },
      "text/plain": [
       "interactive(children=(FloatSlider(value=0.05, description='y', max=1.0, step=0.01), Output()), _dom_classes=('…"
      ]
     },
     "metadata": {},
     "output_type": "display_data"
    },
    {
     "data": {
      "text/plain": [
       "<function __main__.oplines_interp_y_plot(y)>"
      ]
     },
     "execution_count": 18,
     "metadata": {},
     "output_type": "execute_result"
    }
   ],
   "source": [
    "# show that operating lines is working correctly\n",
    "T=200;xF=0.6;xB=0.05;q=0.85;ntimes_RGmin=1.3;\n",
    "def oplines_interp_y_plot(y):\n",
    "    \n",
    "    plt.plot(*oplines(T, xF, xB, q, ntimes_RGmin), 'k-')\n",
    "    x = oplines_interp_y(T, xF, xB, q, ntimes_RGmin, y)\n",
    "    plt.plot(x,y,'or')\n",
    "    plt.show()\n",
    "\n",
    "interact(oplines_interp_y_plot, \n",
    "         y=widgets.FloatSlider(min=0, max=1, step=0.01, value=0.05))"
   ]
  },
  {
   "cell_type": "markdown",
   "metadata": {
    "Collapsed": "true"
   },
   "source": [
    "#### Stufenkonstruktion mit Murphree vapor efficiency\n",
    " * Die Murphree vapour phase efficiency ist der Anteil der vertikalen Distanz von Operating Linie zur VLE-Kurve.\n",
    "   * Bei 50 % Effizient ist also der vertikale Abstand von Operatin-Linie zur VLE-Linie 50%\n",
    " * Für die Murphree liquid efficiency wird beim Zeichnen der Stufenkonstruktion nur (abwärtsgerichtet im Verstärkungsteil) bei jeder Stufe 50% nach links gegangen, der horizontale Abstand von der Operating-Linie zur VLE-Linie ist also 50%."
   ]
  },
  {
   "cell_type": "code",
   "execution_count": 19,
   "metadata": {
    "Collapsed": "false"
   },
   "outputs": [
    {
     "name": "stdout",
     "output_type": "stream",
     "text": [
      "y Operating Line: 0.05\n",
      "y VLE:          : 0.06449618765165022\n",
      "\n",
      "0.0014496187651650211\n",
      "0.0630465688864852\n"
     ]
    }
   ],
   "source": [
    "x0 = 0.05\n",
    "\n",
    "MuEff = 0.9\n",
    "g_op_y = interp1d(*oplines(T, xF, xB, q, ntimes_RGmin))\n",
    "MuDiff = (1-MuEff) * abs((VLE(T,x0)-g_op_y(x0)))\n",
    "print('y Operating Line: ', end='') ; print(g_op_y(x0))\n",
    "print('y VLE:          : ', end='') ; print(VLE(T, x0))\n",
    "print('')\n",
    "print(MuDiff)\n",
    "print(VLE(T, x0) - MuDiff)"
   ]
  },
  {
   "cell_type": "code",
   "execution_count": 20,
   "metadata": {
    "Collapsed": "false"
   },
   "outputs": [
    {
     "data": {
      "text/plain": [
       "20.0"
      ]
     },
     "execution_count": 20,
     "metadata": {},
     "output_type": "execute_result"
    },
    {
     "data": {
      "image/png": "[encoded data removed]",
      "text/plain": [
       "<Figure size 432x288 with 1 Axes>"
      ]
     },
     "metadata": {
      "needs_background": "light"
     },
     "output_type": "display_data"
    }
   ],
   "source": [
    "def make_Stufen(TinC, xF, xB, q, ntimes_RGmin, MuEff):\n",
    "\n",
    "    #Stufen = np.empty([0, 3], dtype=float)\n",
    "    Stufenxy =  np.array([xB, xB], dtype=float)\n",
    "    \n",
    "    xD = VLE(TinC,xF)\n",
    "    x1 = xB\n",
    "    \n",
    "    i = 0\n",
    "    while x1 < xD:\n",
    "        x0 = x1; # print('x0 = {:3.2f}'.format(x0))\n",
    "        g_op_y = interp1d(*oplines(TinC, xF, xB, q, ntimes_RGmin))\n",
    "        MuDiff = (1-MuEff) * abs((VLE(TinC,x0)-g_op_y(x0)))\n",
    "        y1 = VLE(TinC, x0) - MuDiff; # print('y1 = {:3.2f}'.format(y1))\n",
    "        x1 = oplines_interp_y(TinC, xF, xB, q, ntimes_RGmin, y1); # print('x1 = {:3.2f}'.format(x1))\n",
    "        #Stufen = np.vstack([Stufen, [x0, y1, x1]])\n",
    "        Stufenxy = np.vstack([Stufenxy, [x0,y1], [x1,y1]])\n",
    "        i+=1\n",
    "    df_Stufen = pd.DataFrame(Stufenxy, columns = ['x', 'y'])\n",
    "    n_Stufen = (df_Stufen.shape[0]-1)/2\n",
    "    \n",
    "    return df_Stufen, n_Stufen\n",
    "\n",
    "df_Stufen, n_Stufen = make_Stufen(200,0.6,0.05,0.85,1.3,1)\n",
    "plt.plot(df_Stufen['x'], df_Stufen['y'])\n",
    "n_Stufen"
   ]
  },
  {
   "cell_type": "markdown",
   "metadata": {
    "Collapsed": "true"
   },
   "source": [
    "## 5. Sich einstellende Temperatur im Sumpf bei gegebenem Kondensatordruck"
   ]
  },
  {
   "cell_type": "code",
   "execution_count": 21,
   "metadata": {
    "Collapsed": "false"
   },
   "outputs": [],
   "source": [
    "def pLV_H12BT(T):  # T in °C and pLV in mbar | MGs gemessene Dampfdruckkurve gefittet\n",
    "    A = 11.4056281872818;    B = 4136.25631406511;    C = 101.419070492597 \n",
    "    \n",
    "    T = T + 273.15\n",
    "    pLV_H12BT = 10 ** (A - B / (T + C)) / 100 # berechne den Dampfdruck von H12BT in mbar für eine gegebene Temperatur in °C\n",
    "    return pLV_H12BT\n",
    "\n",
    "def pLV_H0BT(T):  # T in °C and pLV in mbar | MGs gemessene Dampfdruckkurve gefittet\n",
    "    A = 11.6830423129098;     B = 4464.31133596868;     C = 111.960865653925 \n",
    "    \n",
    "    T = T + 273.15\n",
    "    pLV_H0BT = 10 ** (A - B / (T + C)) / 100 # berechne den Dampfdruck von H0BT in mbar für eine gegebene Temperatur in °C\n",
    "    return pLV_H0BT\n",
    "\n",
    "def gammaH12BT(T, xH12BT): # UNIFAC und beachte: f(xH12BT)=f(1-xH0BT)\n",
    "    if typ == 'UNIFAC':\n",
    "        popt = [ 1.8451356505525132, -1.5863987167755635, -0.0013452351126243462, 0.0011746330714486036, 0.7500320673051, 8.822067998791486e-07]\n",
    "    elif typ =='UNIFAC_D':\n",
    "        popt = [ 1.2763726792579544, -0.007993528582923397, -0.002218013979514285, 0.0018522601200481924, -0.2792761499441165, 1.5598165702775456e-06]\n",
    "    elif typ == 'experimental_fit':\n",
    "        popt = [1,0,0,0,0,0]\n",
    "    else:\n",
    "        print('No type of calculating alpha was specified. Specify as \\'UNIFAC\\' or \\'experimental_fit\\'')    \n",
    "    \n",
    "    def func(x, T, a, b, c, d, e, f):\n",
    "        gammaH12 = a  +  b*x  +  c*T + d*x*T + e*x**2 + f*T**2  # quadratic function alpha = f(xH12BT, T)\n",
    "        return gammaH12    \n",
    "    gammaH12 = func( xH12BT, T, *popt)    \n",
    "    return gammaH12\n",
    "\n",
    "def gammaH0BT(T, xH12BT): # UNIFAC\n",
    "    if typ == 'UNIFAC':\n",
    "        popt = [ 0.9911630540010934, 0.1943999822667261, -0.00013246671872439077, -0.0013371488830025073, 0.654625729347227, 9.578039853648297e-07]\n",
    "    elif typ =='UNIFAC_D':\n",
    "        popt = [ 1.014065698576433, 0.2706523381737909, -0.00038708748308573666, -0.0018840007656849027, 0.10525087482478367, 1.6038463158145088e-06]\n",
    "    elif typ == 'experimental_fit':\n",
    "        popt = [1,0,0,0,0,0]\n",
    "    else:\n",
    "        print('No type of calculating alpha was specified. Specify as \\'UNIFAC\\' or \\'experimental_fit\\'')        \n",
    "    \n",
    "    def func(x, T, a, b, c, d, e, f):\n",
    "        gammaH0 = a  +  b*x  +  c*T + d*x*T + e*x**2 + f*T**2  # quadratic function alpha = f(xH12BT, T)\n",
    "        return gammaH0    \n",
    "    gammaH0 = func( xH12BT, T, *popt)    \n",
    "    return gammaH0"
   ]
  },
  {
   "cell_type": "code",
   "execution_count": 22,
   "metadata": {
    "Collapsed": "false"
   },
   "outputs": [
    {
     "name": "stdout",
     "output_type": "stream",
     "text": [
      "pLVH12BT(200°C) = 160.97mbar.\n",
      "P_VLE(200°C,xH12=1) = 157.48mbar.\n",
      "pLVH0BT(200°C) = 113.03mbar.\n",
      "P_VLE(200°C,xH12=0) = 113.12mbar.\n"
     ]
    },
    {
     "data": {
      "image/png": "[encoded data removed]",
      "text/plain": [
       "<Figure size 432x288 with 1 Axes>"
      ]
     },
     "metadata": {
      "needs_background": "light"
     },
     "output_type": "display_data"
    }
   ],
   "source": [
    "def P_VLE(TinC, xH12): # Temperatur in °C\n",
    "    T = TinC\n",
    "    pLVH12 = pLV_H12BT(T)\n",
    "    pLVH0 = pLV_H0BT(T)\n",
    "    gH12 = gammaH12BT(T, xH12)\n",
    "    gH0 = gammaH0BT(T, xH12)\n",
    "    P = xH12*pLVH12*gH12 + (1-xH12)*pLVH0*gH0\n",
    "    if typ == 'experimental_fit':\n",
    "        print('P was calculated assuming ideality since no activity coefficients are available for experimental x-y-Data.')\n",
    "    return P\n",
    "\n",
    "TT, xx = np.meshgrid(np.linspace(140,281,14), np.linspace(0.01,0.99,9))\n",
    "Ts = TT.flatten()\n",
    "xs = xx.flatten()\n",
    "\n",
    "Ps = P_VLE(Ts, xs)    \n",
    "P_3d = Ps.reshape(np.shape(TT))\n",
    "\n",
    "fig = plt.figure()\n",
    "ax = plt.axes(projection=\"3d\")\n",
    "ax.plot_surface(TT, xx, P_3d, rstride=1, cstride=1, alpha=0.5)\n",
    "\n",
    "### Es gibt durch die gefitteten gammas kleien Abweichungen zur Dampfdruckkuve\n",
    "print('pLVH12BT(200°C) = {:3.2f}mbar.'.format(pLV_H12BT(200)) )\n",
    "print('P_VLE(200°C,xH12=1) = {:3.2f}mbar.'.format(P_VLE(200,1)) )\n",
    "print('pLVH0BT(200°C) = {:3.2f}mbar.'.format(pLV_H0BT(200)) )\n",
    "print('P_VLE(200°C,xH12=0) = {:3.2f}mbar.'.format(P_VLE(200,0)) )"
   ]
  },
  {
   "cell_type": "code",
   "execution_count": 23,
   "metadata": {
    "Collapsed": "false"
   },
   "outputs": [
    {
     "data": {
      "text/plain": [
       "array([0.01, 0.08, 0.15, 0.22, 0.29, 0.36, 0.43, 0.5 , 0.57, 0.64, 0.71,\n",
       "       0.78, 0.85, 0.92, 0.99])"
      ]
     },
     "execution_count": 23,
     "metadata": {},
     "output_type": "execute_result"
    }
   ],
   "source": [
    "np.linspace(0.01,0.99,15)"
   ]
  },
  {
   "cell_type": "code",
   "execution_count": 24,
   "metadata": {
    "Collapsed": "false"
   },
   "outputs": [
    {
     "name": "stderr",
     "output_type": "stream",
     "text": [
      "C:\\Users\\t.ruede\\Anaconda3\\lib\\site-packages\\scipy\\interpolate\\_fitpack_impl.py:976: RuntimeWarning: No more knots can be added because the number of B-spline\n",
      "coefficients already exceeds the number of data points m.\n",
      "Probable causes: either s or m too small. (fp>s)\n",
      "\tkx,ky=1,1 nx,ny=19,16 m=225 fp=0.000428 s=0.000000\n",
      "  warnings.warn(RuntimeWarning(_iermess2[ierm][0] + _mess))\n"
     ]
    },
    {
     "data": {
      "text/plain": [
       "208.24483295035785"
      ]
     },
     "execution_count": 24,
     "metadata": {},
     "output_type": "execute_result"
    }
   ],
   "source": [
    "TT, xx = np.meshgrid(np.linspace(140,280,15), np.linspace(0.01,0.99,15))\n",
    "Ts = TT.flatten()\n",
    "xs = xx.flatten()\n",
    "Ps = P_VLE(Ts, xs)  \n",
    "T_VLE = interp2d(Ps, xs, Ts, kind='linear')\n",
    "\n",
    "T_VLE(200,0.99).item(0)"
   ]
  },
  {
   "cell_type": "markdown",
   "metadata": {
    "Collapsed": "false"
   },
   "source": [
    "## 6. Plot Energiebalken\n",
    " * 1 g Wasserstoff kann bei Vollumsatz aus 16 g H12-BT freigesetzt werden\n",
    " * $ 119.96 \\frac{kJ}{g_{H2}} $\n",
    " * Die Aufwärmenthalpie des LOHCs von 20°C auf 200°C Siedetemperatur (Reaktionsbedingungen in der RD) beträgt $ 5.9 \\frac{kJ}{g_{H2}} $\n",
    " * Die Aufdampfenthalpie bei geg. Verdampfungsenthalpie und Aufdampfverhältnis und bei 200 °C Siedetemperatur sollte niedriger als der Energieverlust der Brennstoffzelle sein.\n",
    " * Die Reaktionsenthalpie bei 200 °C sollte niedriger sein als die Aufdampfenthalpie."
   ]
  },
  {
   "cell_type": "markdown",
   "metadata": {
    "Collapsed": "false"
   },
   "source": [
    "### 6.1 LHV pro Gramm Wasserstoff"
   ]
  },
  {
   "cell_type": "code",
   "execution_count": 25,
   "metadata": {
    "Collapsed": "false"
   },
   "outputs": [],
   "source": [
    "LHV_pro_mH2 = 119.96 # kJ/g"
   ]
  },
  {
   "cell_type": "markdown",
   "metadata": {
    "Collapsed": "false"
   },
   "source": [
    "### 6.2 Benötigte Feedmasse LOHC um 1 g Wasserstoff freizusetzen"
   ]
  },
  {
   "cell_type": "code",
   "execution_count": 26,
   "metadata": {
    "Collapsed": "false"
   },
   "outputs": [
    {
     "data": {
      "text/plain": [
       "16.067873677248677"
      ]
     },
     "execution_count": 26,
     "metadata": {},
     "output_type": "execute_result"
    }
   ],
   "source": [
    "def mLOHC_pro_mH2(Umsatz):\n",
    "    return M_H12BT / (6*M_H2) / Umsatz # entspricht dem Feedmassenstrom\n",
    "mLOHC = mLOHC_pro_mH2(1)\n",
    "mLOHC"
   ]
  },
  {
   "cell_type": "markdown",
   "metadata": {
    "Collapsed": "false"
   },
   "source": [
    "### 6.3 Aufwärmenthalpie für Feedmasse LOHC"
   ]
  },
  {
   "cell_type": "code",
   "execution_count": 27,
   "metadata": {
    "Collapsed": "false"
   },
   "outputs": [],
   "source": [
    "def cp_H12BT(TinK):  # T in K and output in J/g/K | [Müller15 Table S1]\n",
    "    A = 0.00339713;    b = 0.73472925\n",
    "    Tmin = 190-273.15 # °C\n",
    "    Tmax = 394-273.15 # °C    \n",
    "    cp = A * TinK + b # berechne die Wärmekapazität von H12BT in J/g/K für eine gegebene Temperatur in K\n",
    "    return cp"
   ]
  },
  {
   "cell_type": "code",
   "execution_count": 28,
   "metadata": {
    "Collapsed": "false"
   },
   "outputs": [
    {
     "data": {
      "text/plain": [
       "2.4931287512678924"
      ]
     },
     "execution_count": 28,
     "metadata": {},
     "output_type": "execute_result"
    }
   ],
   "source": [
    "def Aufwaermenthalpie(mLOHC, TinK): \n",
    "    mean_cp_H12BT = ( cp_H12BT(T_std) + cp_H12BT(T) ) /2\n",
    "    return mean_cp_H12BT * mLOHC * abs(T-T_std) / 1000\n",
    "Aufwaermenthalpie(mLOHC, T_CtoK(200))"
   ]
  },
  {
   "cell_type": "markdown",
   "metadata": {
    "Collapsed": "false"
   },
   "source": [
    "### 6.4 Aufdampfenthalpie"
   ]
  },
  {
   "cell_type": "code",
   "execution_count": 29,
   "metadata": {
    "Collapsed": "false"
   },
   "outputs": [
    {
     "data": {
      "text/plain": [
       "58.70924000000001"
      ]
     },
     "execution_count": 29,
     "metadata": {},
     "output_type": "execute_result"
    }
   ],
   "source": [
    "def dHvap_H0BT(TinK):  # [Müller15]\n",
    "    b_H0BT = -98264.58; Dgl_C_pm0_H0BT = -83.6\n",
    "    Tmin = 373-273.15 # °C\n",
    "    Tmax = 633-273.15 # °C    \n",
    "    dHvap = (-b_H0BT + Dgl_C_pm0_H0BT * TinK) / 1000 # berechne die Verdampfungsenthalpie in kJ/mol für eine gegebene Temperatur in K\n",
    "    return dHvap\n",
    "dHvap_H0BT(T_CtoK(200))"
   ]
  },
  {
   "cell_type": "code",
   "execution_count": 30,
   "metadata": {
    "Collapsed": "false"
   },
   "outputs": [
    {
     "data": {
      "text/plain": [
       "198.4124145588944"
      ]
     },
     "execution_count": 30,
     "metadata": {},
     "output_type": "execute_result"
    }
   ],
   "source": [
    "def Aufdampfenthalpie(mLOHC_pro_mH2, R_G):\n",
    "    return R_G * dHvap_H0BT(T) / M_H0BT * mLOHC_pro_mH2\n",
    "Aufdampfenthalpie(mLOHC, 27.6)"
   ]
  },
  {
   "cell_type": "markdown",
   "metadata": {
    "Collapsed": "false"
   },
   "source": [
    "### 6.5 Wärmeverlust der Brennstoffzelle"
   ]
  },
  {
   "cell_type": "code",
   "execution_count": 31,
   "metadata": {
    "Collapsed": "false"
   },
   "outputs": [
    {
     "data": {
      "text/plain": [
       "59.98"
      ]
     },
     "execution_count": 31,
     "metadata": {},
     "output_type": "execute_result"
    }
   ],
   "source": [
    "def FC_Enthalpieverlust(eta_FC):\n",
    "    return eta_FC * LHV_pro_mH2 \n",
    "FC_Enthalpieverlust(0.5)"
   ]
  },
  {
   "cell_type": "markdown",
   "metadata": {
    "Collapsed": "false"
   },
   "source": [
    "### 6.6 Reaktionsenthalpie"
   ]
  },
  {
   "cell_type": "code",
   "execution_count": 32,
   "metadata": {
    "Collapsed": "false"
   },
   "outputs": [
    {
     "data": {
      "text/plain": [
       "32.946852892774864"
      ]
     },
     "execution_count": 32,
     "metadata": {},
     "output_type": "execute_result"
    }
   ],
   "source": [
    "def dHr(T): # Reaktionsenthalpie pro freigesetztes mol Wasserstoff\n",
    "    Tmin = 298-273 # °C\n",
    "    Tmax = 400-273 # °C  danach lineare Extrapolation der cp Daten von [Müller15]\n",
    "  \n",
    "    cp_a_H12=0.73472925; cp_b_H12=0.00339713\n",
    "    cp_a_H0=0.76712874; cp_b_H0=0.00259635\n",
    "    cp_a_H2=14.1232403; cp_b_H2=7.03384073e-04\n",
    "    \n",
    "    def cp(TinK, a, b): # T in K and output in J/g/K | [Müller15 Table S1]\n",
    "        cp = b * TinK + a # berechne die Wärmekapazität von H0BT in J/g/K für eine gegebene Temperatur in K\n",
    "        return cp\n",
    "    \n",
    "    def cp_H12(T):\n",
    "        return cp(T, cp_a_H12, cp_b_H12)\n",
    "    def cp_H0(T):\n",
    "        return cp(T, cp_a_H0, cp_b_H0)\n",
    "    def cp_H2(T):\n",
    "        return cp(T, cp_a_H2, cp_b_H2)\n",
    "\n",
    "    dHr_std = 381.2*1000\n",
    "    nu_H12 = -1; nu_H0 = 1; nu_H2 = 6 # stöchio Koeffizienten\n",
    "    nu = [nu_H12, nu_H0, nu_H2]\n",
    "    Ms = [M_H12BT, M_H0BT, M_H2]\n",
    "    cp_as = [cp_a_H12, cp_a_H0, cp_a_H2]\n",
    "    cp_bs = [cp_b_H12,cp_b_H0,cp_b_H2]\n",
    "    Da = np.sum(np.multiply(np.multiply(nu, cp_as), Ms)) # Formel aus [Gmehling12]\n",
    "    Db = np.sum(np.multiply(np.multiply(nu, cp_bs), Ms)) # Formel aus [Gmehling12]\n",
    "    \n",
    "    def dHr_promolH2(TinK):\n",
    "        return (dHr_std + Da*(TinK-T_std) + Db/2*(TinK**2-T_std**2))  /6/1000\n",
    "    \n",
    "        \n",
    "    return dHr_promolH2(T_CtoK(T)) # Reaktionsenthalpie pro freigesetztes mol Wasserstoff\n",
    "\n",
    "dHr(200) / M_H2"
   ]
  },
  {
   "cell_type": "markdown",
   "metadata": {
    "Collapsed": "false"
   },
   "source": [
    "### 6.7 Vakuumerzeugungsenthalpie bzw. Energiebedarf um Wasserstoff bei Reaktionsdruck abusaugen\n",
    " * Die Leistungsaufnahme einer Vakuumpumpe ist häufig konstant über einen weiten Bereich von Saugvolumenströmen\n",
    " * Damit ist die Leistungsaufnahme aber sehr wohl von dem verdichteten Massenstrom abhängig\n",
    " * Es wird von einem perfekten Kondensator ausgegangen und nur H2 muss verdichtet werden\n",
    " * Als Leistungsaufnahme wird hier ein grob gemittelter Wert verschiedener Vakuumpumpen bei 100 mbar Saugdruck angesetzt:\n",
    "   * Leistungsaufnahme: $43.7 \\frac{Wh}{m^{-3}_{100mbar}}=157.3 \\frac{kJ}{m^{-3}_{100mbar}}$"
   ]
  },
  {
   "cell_type": "code",
   "execution_count": 33,
   "metadata": {
    "Collapsed": "false"
   },
   "outputs": [
    {
     "data": {
      "text/plain": [
       "13.191131979349258"
      ]
     },
     "execution_count": 33,
     "metadata": {},
     "output_type": "execute_result"
    }
   ],
   "source": [
    "# Energieverbrauch der Vakuumpumpe zum Absaugen pro Gramm H2 bei Kopfdruck und Raumtemperatur nach Rückflusskühler\n",
    "def Vakuum_E_Verbrauch(xD, T_Kopf_inC, Leistungsaufnahme): # Leistungsaufnahme in kJ/m^3_Saugdruck\n",
    "    \n",
    "    P = P_VLE( T_Kopf_inC, xD ); # print(xD); print(P)\n",
    "    Dichte_nach_RK = rho_H2(P, T_std) # nach dem Auskondensieren des BT-Dampfes\n",
    "    H2_Volumen_pro_mH2 = 10**(-3) / Dichte_nach_RK # m^3 bei Saugdruck pro gramm H2\n",
    "    return Leistungsaufnahme * H2_Volumen_pro_mH2\n",
    "    \n",
    "Vakuum_E_Verbrauch( VLE(T,xF), T, 157.3)"
   ]
  },
  {
   "cell_type": "markdown",
   "metadata": {
    "Collapsed": "false"
   },
   "source": [
    "## Float Slider\n",
    " * xD is fixed to xF: \n",
    "   * The liquid feed from the reaction zone has an arbitrarly fixed composition xF. \n",
    "   * It is fed to the topmost stage which results in the vapor fraction above the topmost stage.\n",
    "   * The composition of the distillate streem is given by the equilibrium curven and can be calculated with ``VLE(0.7, alpha)``.\n",
    "   * The vapor fraction above the topmost stage gives the liquid distillate fraction xD."
   ]
  },
  {
   "cell_type": "code",
   "execution_count": 34,
   "metadata": {
    "Collapsed": "false"
   },
   "outputs": [
    {
     "data": {
      "application/vnd.jupyter.widget-view+json": {
       "model_id": "d4831dbc937545e381ffe3f95ef7fa94",
       "version_major": 2,
       "version_minor": 0
      },
      "text/plain": [
       "interactive(children=(FloatSlider(value=200.0, description='T', max=280.0, min=140.0, step=10.0), FloatSlider(…"
      ]
     },
     "metadata": {},
     "output_type": "display_data"
    },
    {
     "data": {
      "text/plain": [
       "<function __main__.plotMcCabeThiele(T, xF, xB, q, ntimes_RGmin, MuEff)>"
      ]
     },
     "execution_count": 34,
     "metadata": {},
     "output_type": "execute_result"
    }
   ],
   "source": [
    "typ = 'experimental_fit' # can be 'UNIFAC' or 'UNIFAC_D' or 'experimental_fit'\n",
    "interact(plotMcCabeThiele,\n",
    "         T=widgets.FloatSlider(min=140, max=280, step=10, value=200),\n",
    "         xF=widgets.FloatSlider(min=0.01, max=0.83, step=0.01, value=0.7),\n",
    "         xB=widgets.FloatSlider(min=0.01, max=0.83, step=0.01, value=0.05),\n",
    "         q=widgets.FloatSlider(min=-1, max=3, step=0.05, value=1),\n",
    "         ntimes_RGmin=widgets.FloatSlider(min=1, max=2, step=0.05, value=1.3),\n",
    "         MuEff=widgets.FloatSlider(min=0.5, max=1, step=0.05, value=1))"
   ]
  }
 ],
 "metadata": {
  "kernelspec": {
   "display_name": "Python 3",
   "language": "python",
   "name": "python3"
  },
  "language_info": {
   "codemirror_mode": {
    "name": "ipython",
    "version": 3
   },
   "file_extension": ".py",
   "mimetype": "text/x-python",
   "name": "python",
   "nbconvert_exporter": "python",
   "pygments_lexer": "ipython3",
   "version": "3.7.3"
  }
 },
 "nbformat": 4,
 "nbformat_minor": 4
}
