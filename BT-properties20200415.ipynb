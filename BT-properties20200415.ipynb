{
 "cells": [
  {
   "cell_type": "markdown",
   "metadata": {
    "Collapsed": "false"
   },
   "source": [
    "# BT properties\n",
    "\n",
    "##### Anleitung zur Benutzung: \n",
    " 4. Das Initialisieren der Funktionsdefinitionen muss abgeschlossen sein\n",
    " 5. In die Zelle unter der Überschrift 'Define T, p, composition beginnend mit `interact(f..` klicken\n",
    " 6. `Shift` + `Enter` drücken\n",
    " 7. An den Reglern die T, p, xH12BT einstellen\n",
    "\n",
    "##### ToDo: \n",
    " - Temperatur bei gegebenem Siededruck aus gammas errechnen\n",
    " - Mehr Diagramme darstellen"
   ]
  },
  {
   "cell_type": "markdown",
   "metadata": {
    "Collapsed": "false"
   },
   "source": [
    "## Define T, p, composition "
   ]
  },
  {
   "cell_type": "code",
   "execution_count": 30,
   "metadata": {
    "Collapsed": "false"
   },
   "outputs": [
    {
     "data": {
      "application/vnd.jupyter.widget-view+json": {
       "model_id": "fd78253c1e264f3a83e2de8f4e3b3f65",
       "version_major": 2,
       "version_minor": 0
      },
      "text/plain": [
       "interactive(children=(FloatSlider(value=200.0, description='T_degC', max=360.0, step=1.0), FloatSlider(value=2…"
      ]
     },
     "metadata": {},
     "output_type": "display_data"
    },
    {
     "data": {
      "text/plain": [
       "<function __main__.func(T_degC, p_mbar, xH12BT)>"
      ]
     },
     "execution_count": 30,
     "metadata": {},
     "output_type": "execute_result"
    }
   ],
   "source": [
    "interact(func, \n",
    "         T_degC=widgets.FloatSlider(min=0, max=360, step=1, value=200),\n",
    "         p_mbar=widgets.FloatSlider(min=10, max=1020, step=2, value=200),\n",
    "         xH12BT=widgets.FloatSlider(min=0.01, max=0.99, step=0.01, value=0.99))"
   ]
  },
  {
   "cell_type": "markdown",
   "metadata": {
    "Collapsed": "false"
   },
   "source": [
    "---\n",
    "## Definition der Funktionen, die alles berechnen:\n",
    "\n",
    "##### Anleitung: \n",
    " 1. Hier beginnt die Anleitung\n",
    " 2. Als erstes ist in die Zelle darunter hineinklicken\n",
    " 3. Anschließend in der Titelleiste unter `Run` auf `Run selected cell and all below` klicken"
   ]
  },
  {
   "cell_type": "code",
   "execution_count": 2,
   "metadata": {
    "Collapsed": "false"
   },
   "outputs": [],
   "source": [
    "from ipywidgets import interact\n",
    "import ipywidgets as widgets\n",
    "import numpy as np\n",
    "import matplotlib.pyplot as plt\n",
    "\n",
    "T = 25  # °C\n",
    "p = 1013 # mbar\n",
    "xH12BT = 1\n",
    "\n",
    "def func(T_degC, p_mbar, xH12BT):\n",
    "    gime_properties(T_degC, p_mbar, xH12BT)\n",
    "    plot_properties(T_degC, p_mbar, xH12BT)"
   ]
  },
  {
   "cell_type": "code",
   "execution_count": 3,
   "metadata": {
    "Collapsed": "false"
   },
   "outputs": [],
   "source": [
    "def gime_properties(T, p, xH12BT):\n",
    "    print('M_H0BT = 182.261 g/mol | M_H12BT = ' + str(182.261 + 6 * 2.016) + ' g/mol | M_H2 = 2.016 g/mol')\n",
    "    print('')\n",
    "    print(pLV_H0BT(T)[0])\n",
    "    print(pLV_H12BT(T)[0])\n",
    "    print('')\n",
    "    print(pLV_H0DBT(T)[0])\n",
    "    print(pLV_H18DBT(T)[0])\n",
    "    print('')\n",
    "    print(densl_H0BT(T)[0])\n",
    "    print(densl_H12BT(T)[0])\n",
    "    print('')\n",
    "    print(dvisc_H0BT(T)[0])\n",
    "    print(dvisc_H12BT(T)[0])\n",
    "    print('')\n",
    "    print(surfT_H0BT(T)[0])\n",
    "    print(surfT_H12BT(T)[0])\n",
    "    print('')\n",
    "    print(cp_H0BT(T)[0])\n",
    "    print(cp_H12BT(T)[0])\n",
    "    print('')\n",
    "    print(dHvap_H0BT(T)[0])\n",
    "    print(dHvap_H12BT(T)[0])\n",
    "    print('')\n",
    "    print(dHr(T)[0])\n",
    "    print('')\n",
    "    print(eq_conv_batch_atm_72h(T))\n",
    "    print('')\n",
    "    print(Trennfaktor(T, xH12BT))\n",
    "    print(gammaH12BT(T, xH12BT))\n",
    "    print(gammaH0BT(T, xH12BT))\n",
    "    print('')\n",
    "    print(BI(xH12BT)[0])\n",
    "    print('')"
   ]
  },
  {
   "cell_type": "code",
   "execution_count": 4,
   "metadata": {
    "Collapsed": "false"
   },
   "outputs": [],
   "source": [
    "def plot_properties(T, p, xH12BT):\n",
    "    fig = plt.figure(figsize=(20,6))\n",
    "    ax1 = fig.add_subplot(121)\n",
    "    ax2 = fig.add_subplot(122)\n",
    "    \n",
    "    ax1.plot(pLV_H12BT(T)[1], pLV_H12BT(T)[2], label='MG H12BT'); ax1.plot(T, pLV_H12BT(T)[-1], 'ko')\n",
    "    ax1.plot(pLV_H0BT(T)[1], pLV_H0BT(T)[2], label='MG H00BT'); ax1.plot(T, pLV_H0BT(T)[-1], 'ko')\n",
    "    ax1.set_title('Dampfdruck / mbar über T / °C'); ax1.legend()\n",
    "    \n",
    "    ax2.plot(densl_H12BT(T)[1], densl_H12BT(T)[2], label='MG H12BT'); ax2.plot(T, densl_H12BT(T)[-1], 'ko')\n",
    "    ax2.plot(densl_H0BT(T)[1], densl_H0BT(T)[2], label='MG H00BT'); ax2.plot(T, densl_H0BT(T)[-1], 'ko')\n",
    "    ax2.set_title('Dichte / kg/m^3 über T / °C'); ax2.legend()\n",
    "    \n",
    "    plt.show()"
   ]
  },
  {
   "cell_type": "markdown",
   "metadata": {
    "Collapsed": "false"
   },
   "source": [
    "#### Dampfdruck H0-BT:"
   ]
  },
  {
   "cell_type": "code",
   "execution_count": 5,
   "metadata": {
    "Collapsed": "false"
   },
   "outputs": [],
   "source": [
    "def pLV_H0BT(T):  # T in °C and output pLV in mbar | MGs gemessene Dampfdruckkurve gefittet\n",
    "    A = 11.6830423129098;     B = 4464.31133596868;     C = 111.960865653925 \n",
    "    Tmin = 423-273.15 # °C\n",
    "    Tmax = 554-273.15 # °C    \n",
    "    \n",
    "    def pLV(T):\n",
    "        TinK = T + 273.15\n",
    "        pLV = 10 ** (A - B / (TinK + C)) / 100 # berechne den Dampfdruck von H0BT in mbar für eine gegebene Temperatur in °C\n",
    "        return pLV \n",
    "    \n",
    "    if T >= Tmin and T <= Tmax:\n",
    "        result = 'pLV_H00BT(' + str(T) + '°C) = ' + str(round(pLV(T), 1)) + ' mbar'\n",
    "    else:\n",
    "        result = 'pLV_H0BT(' + str(T) + '°C) = ' + str(int(round(pLV(T),0))) + ' mbar (out of Temperature range ' + str(int(Tmin)) + '°C - ' + str(int(Tmax)) + '°C)'\n",
    "    \n",
    "    Ts = np.linspace(Tmin, Tmax, 100)\n",
    "    pLVs = pLV(Ts)\n",
    "    \n",
    "    return result, Ts, pLVs, pLV(T)"
   ]
  },
  {
   "cell_type": "markdown",
   "metadata": {
    "Collapsed": "false"
   },
   "source": [
    "#### Dampfdruck H12-BT:"
   ]
  },
  {
   "cell_type": "code",
   "execution_count": 6,
   "metadata": {
    "Collapsed": "false"
   },
   "outputs": [],
   "source": [
    "def pLV_H12BT(T):  # T in °C and output pLV in mbar | MGs gemessene Dampfdruckkurve gefittet\n",
    "    A = 11.4056281872818;    B = 4136.25631406511;    C = 101.419070492597 \n",
    "    Tmin = 423-273 # °C\n",
    "    Tmax = 554-273 # °C    \n",
    "\n",
    "    def pLV(T):\n",
    "        TinK = T + 273.15\n",
    "        pLV = 10 ** (A - B / (TinK + C)) / 100 # berechne den Dampfdruck von H0BT in mbar für eine gegebene Temperatur in °C\n",
    "        return pLV     \n",
    "    \n",
    "    if T >= Tmin and T <= Tmax:\n",
    "        result = 'pLV_H12BT(' + str(T) + '°C) = ' + str(round(pLV(T), 1)) + ' mbar'\n",
    "    else:\n",
    "        result = 'pLV_H12BT(' + str(T) + '°C) = ' + str(int(round(pLV(T),0))) + ' mbar (out of Temperature range ' + str(int(Tmin)) + '°C - ' + str(int(Tmax)) + '°C)'\n",
    "    \n",
    "    Ts = np.linspace(Tmin, Tmax, 100)\n",
    "    pLVs = pLV(Ts)\n",
    "    \n",
    "    return result, Ts, pLVs, pLV(T)"
   ]
  },
  {
   "cell_type": "markdown",
   "metadata": {
    "Collapsed": "false"
   },
   "source": [
    "#### Dampfdruck H0-DBT:"
   ]
  },
  {
   "cell_type": "code",
   "execution_count": 7,
   "metadata": {
    "Collapsed": "false"
   },
   "outputs": [],
   "source": [
    "def pLV_H0DBT(T):  # T in °C and output pLV in mbar | MGs gemessene Dampfdruckkurve gefittet\n",
    "    A = 12.2929158748249;    B = 5879.57608729412;    C = 141.338528329222 \n",
    "    Tmin = 150 # °C\n",
    "    Tmax = 394 # °C    \n",
    "\n",
    "    def pLV(T):\n",
    "        TinK = T + 273.15\n",
    "        pLV = 10 ** (A - B / (TinK + C)) / 100 # berechne den Dampfdruck von H0BT in mbar für eine gegebene Temperatur in °C\n",
    "        return pLV     \n",
    "    \n",
    "    if T >= Tmin and T <= Tmax:\n",
    "        result = 'pLV_H00DBT(' + str(T) + '°C) = ' + str(round(pLV(T), 1)) + ' mbar'\n",
    "    else:\n",
    "        result = 'pLV_H00DBT(' + str(T) + '°C) = ' + str(int(round(pLV(T),0))) + ' mbar (out of Temperature range ' + str(int(Tmin)) + '°C - ' + str(int(Tmax)) + '°C)'\n",
    "    \n",
    "    Ts = np.linspace(Tmin, Tmax, 100)\n",
    "    pLVs = pLV(Ts)\n",
    "    \n",
    "    return result, Ts, pLVs, pLV(T)"
   ]
  },
  {
   "cell_type": "markdown",
   "metadata": {
    "Collapsed": "false"
   },
   "source": [
    "#### Dampfdruck H18-DBT:"
   ]
  },
  {
   "cell_type": "code",
   "execution_count": 8,
   "metadata": {
    "Collapsed": "false"
   },
   "outputs": [],
   "source": [
    "def pLV_H18DBT(T):  # T in °C and output pLV in mbar | MGs gemessene Dampfdruckkurve gefittet\n",
    "    A = 12.0766465933801;    B = 5458.13900998192;    C = 126.076200117525 \n",
    "    Tmin = 150 # °C\n",
    "    Tmax = 394 # °C    \n",
    "\n",
    "    def pLV(T):\n",
    "        TinK = T + 273.15\n",
    "        pLV = 10 ** (A - B / (TinK + C)) / 100 # berechne den Dampfdruck von H0BT in mbar für eine gegebene Temperatur in °C\n",
    "        return pLV     \n",
    "    \n",
    "    if T >= Tmin and T <= Tmax:\n",
    "        result = 'pLV_H18DBT(' + str(T) + '°C) = ' + str(round(pLV(T), 1)) + ' mbar'\n",
    "    else:\n",
    "        result = 'pLV_H18DBT(' + str(T) + '°C) = ' + str(int(round(pLV(T),0))) + ' mbar (out of Temperature range ' + str(int(Tmin)) + '°C - ' + str(int(Tmax)) + '°C)'\n",
    "    \n",
    "    Ts = np.linspace(Tmin, Tmax, 100)\n",
    "    pLVs = pLV(Ts)\n",
    "    \n",
    "    return result, Ts, pLVs, pLV(T)"
   ]
  },
  {
   "cell_type": "markdown",
   "metadata": {
    "Collapsed": "false"
   },
   "source": [
    "#### Gleichgewichtsumsatz H12-BT -> H0-BT:"
   ]
  },
  {
   "cell_type": "code",
   "execution_count": 29,
   "metadata": {
    "Collapsed": "false"
   },
   "outputs": [],
   "source": [
    "def eq_conv_batch_atm_72h(T): # MA Eßl, schlechter (over) fit, ...\n",
    "    Tmin = 160 # °C\n",
    "    Tmax = 255 # °C  \n",
    "    \n",
    "    if T >= Tmin and T <= Tmax:\n",
    "        p = ([-1.53741294e-09,  1.52510425e-06, -5.99146380e-04,  1.16679306e-01, -1.12746003e+01,  4.32776773e+02])\n",
    "        eq_conv_batch_atm = (int(round(np.polyval(p, T) * 100, 0)))\n",
    "        result = 'X_eq(atm, ' + str(T) + ' °C) = ' + str(eq_conv_batch_atm) + ' % sodass ' + str(100-eq_conv_batch_atm) + ' % H12-BT bei der batch Flüssigphasendehydrierung verbleiben (Daten mit Vorsicht genießen!)'\n",
    "    else:\n",
    "        result = 'Abschätzung für den Gleichgewichtsumsatz nur für ' + str(Tmin) + ' °C bis ' + str(Tmax) + ' °C verfügbar.'\n",
    "    \n",
    "    return result"
   ]
  },
  {
   "cell_type": "markdown",
   "metadata": {
    "Collapsed": "false"
   },
   "source": [
    "#### Aktivitätskoeffiienten:\n",
    " - $\\gamma_{H12} =  f(x_{H12BT}, T) = a + b x + c T + d  x T + e x^2 + f  T^2 $ \n",
    " - $\\gamma_{H0} =  f(x_{H12BT}, T) = a + b x + c T + d  x T + e x^2 + f  T^2 $ "
   ]
  },
  {
   "cell_type": "code",
   "execution_count": 10,
   "metadata": {
    "Collapsed": "false"
   },
   "outputs": [
    {
     "data": {
      "text/plain": [
       "'Der Aktivitätskoeffizient gamma_H12BT(xH12BT=0.99, T=140°C) = 1.0014698313234331'"
      ]
     },
     "execution_count": 10,
     "metadata": {},
     "output_type": "execute_result"
    }
   ],
   "source": [
    "def gammaH12BT(T, xH12BT): # UNIFAC\n",
    "    popt = [ 1.8451356505525132, -1.5863987167755635, -0.0013452351126243462, 0.0011746330714486036, 0.7500320673051, 8.822067998791486e-07]\n",
    "    Tmin = 140 # °C\n",
    "    Tmax = 280 # °C  \n",
    "    \n",
    "    def func(x, T, a, b, c, d, e, f):\n",
    "        gammaH12 = a  +  b*x  +  c*T + d*x*T + e*x**2 + f*T**2  # quadratic function alpha = f(xH12BT, T)\n",
    "        return gammaH12\n",
    "    \n",
    "    if T >= Tmin and T <= Tmax:\n",
    "        gammaH12 = func( xH12BT, T, *popt)\n",
    "        result = 'Der Aktivitätskoeffizient gamma_H12BT(xH12BT=' + str(round(xH12BT,2)) + ', T=' +  str(int(T)) + '°C) = ' + str(gammaH12) \n",
    "    else:\n",
    "        result = 'Aktivitätskoeffizient ist nur für ' + str(Tmin) + ' °C bis ' + str(Tmax) + ' °C verfügbar.'\n",
    "    \n",
    "    return result\n",
    "gammaH12BT(140,0.99)"
   ]
  },
  {
   "cell_type": "code",
   "execution_count": 11,
   "metadata": {
    "Collapsed": "false"
   },
   "outputs": [
    {
     "data": {
      "text/plain": [
       "'Der Aktivitätskoeffizient gamma_H0BT(xH12BT=0.99, xH0BT=0.01, T=140°C) = 1.6401164960859578'"
      ]
     },
     "execution_count": 11,
     "metadata": {},
     "output_type": "execute_result"
    }
   ],
   "source": [
    "def gammaH0BT(T, xH12BT): # UNIFAC\n",
    "    popt = [ 0.9911630540010934, 0.1943999822667261, -0.00013246671872439077, -0.0013371488830025073, 0.654625729347227, 9.578039853648297e-07]\n",
    "    Tmin = 140 # °C\n",
    "    Tmax = 280 # °C  \n",
    "    \n",
    "    def func(x, T, a, b, c, d, e, f):\n",
    "        gammaH0 = a  +  b*x  +  c*T + d*x*T + e*x**2 + f*T**2  # quadratic function alpha = f(xH12BT, T)\n",
    "        return gammaH0\n",
    "    \n",
    "    if T >= Tmin and T <= Tmax:\n",
    "        gammaH0 = func( xH12BT, T, *popt)\n",
    "        result = 'Der Aktivitätskoeffizient gamma_H0BT(xH12BT=' + str(round(xH12BT,2)) + ', xH0BT=' + str(round(1-xH12BT,2)) + ', T=' +  str(int(T)) + '°C) = ' + str(gammaH0) \n",
    "    else:\n",
    "        result = 'Aktivitätskoeffizient ist nur für ' + str(Tmin) + ' °C bis ' + str(Tmax) + ' °C verfügbar.'\n",
    "    \n",
    "    return result\n",
    "gammaH0BT(140,0.99)"
   ]
  },
  {
   "cell_type": "markdown",
   "metadata": {
    "Collapsed": "false"
   },
   "source": [
    "#### Trennfaktor:\n",
    "$\\alpha =  \\frac{   {\\gamma_{H12BT}(x_{H12BT}, T)}  \\cdot  {p^{LV}_{H12BT}(T)}}      {   {\\gamma_{H0BT}(x_{H0BT}, T)}  \\cdot  {p^{LV}_{H0BT}(T)}   } = a + b x + c T + d  x T + e x^2 + f  T^2 $ "
   ]
  },
  {
   "cell_type": "code",
   "execution_count": 12,
   "metadata": {
    "Collapsed": "false"
   },
   "outputs": [],
   "source": [
    "def Trennfaktor(T, xH12BT): # Dampfdruckdaten von MG und UNIFAC\n",
    "    popt = [ 3.26309003e+00, -3.00429593e+00, -5.41476824e-03,  4.13990804e-03,  7.52534580e-01,  3.41720218e-06]\n",
    "    Tmin = 140 # °C\n",
    "    Tmax = 280 # °C  \n",
    "    \n",
    "    def func(x, T, a, b, c, d, e, f):\n",
    "        alpha = a  +  b*x  +  c*T + d*x*T + e*x**2 + f*T**2  # quadratic function alpha = f(xH12BT, T)\n",
    "        return alpha\n",
    "    \n",
    "    if T >= Tmin and T <= Tmax:\n",
    "        alpha = func( xH12BT, T, *popt)\n",
    "        result = 'Der Trennfaktor alpha(xH12BT=' + str(round(xH12BT,2)) + ', xH0BT=' + str(round(1-xH12BT,2)) + ', T=' +  str(int(T)) + '°C) = ' + str(alpha) \n",
    "    else:\n",
    "        result = 'Trennfaktorberechnung ist nur für ' + str(Tmin) + ' °C bis ' + str(Tmax) + ' °C verfügbar.'\n",
    "    \n",
    "    return result"
   ]
  },
  {
   "cell_type": "markdown",
   "metadata": {
    "Collapsed": "false"
   },
   "source": [
    "#### Wärmekapazität der Flüssigkeit H0BT:"
   ]
  },
  {
   "cell_type": "code",
   "execution_count": 13,
   "metadata": {
    "Collapsed": "false"
   },
   "outputs": [
    {
     "data": {
      "text/plain": [
       "1.9955917424999998"
      ]
     },
     "execution_count": 13,
     "metadata": {},
     "output_type": "execute_result"
    }
   ],
   "source": [
    "def cp_H0BT(T):  # T in °C and output in J/g/K | [Müller15 Table S1]\n",
    "    A = 0.00259635;    b = 0.76712874\n",
    "    Tmin = 190-273.15 # °C\n",
    "    Tmax = 394-273.15 # °C    \n",
    "\n",
    "    def cp(T):\n",
    "        TinK = T + 273.15\n",
    "        cp = A * TinK + b # berechne die Wärmekapazität von H0BT in J/g/K für eine gegebene Temperatur in K\n",
    "        return cp\n",
    "    \n",
    "    if T >= Tmin and T <= Tmax:\n",
    "        result = 'cp_H00BT(' + str(T) + '°C) = ' + str(round(cp(T), 1)) + ' J/g/K'\n",
    "    else:\n",
    "        result = 'cp_H00BT(' + str(T) + '°C) = ' + str(round(cp(T),1)) + ' J/g/K (out of Temperature range ' + str(int(Tmin)) + '°C - ' + str(int(Tmax)) + '°C)'\n",
    "    \n",
    "    return result, cp(T)\n",
    "cp_H0BT(200)[-1]"
   ]
  },
  {
   "cell_type": "markdown",
   "metadata": {
    "Collapsed": "false"
   },
   "source": [
    "#### Wärmekapazität der Flüssigkeit H12BT:"
   ]
  },
  {
   "cell_type": "code",
   "execution_count": 14,
   "metadata": {
    "Collapsed": "false"
   },
   "outputs": [
    {
     "data": {
      "text/plain": [
       "1.3806935194999999"
      ]
     },
     "execution_count": 14,
     "metadata": {},
     "output_type": "execute_result"
    }
   ],
   "source": [
    "def cp_H12BT(T):  # T in °C and output in J/g/K | [Müller15 Table S1]\n",
    "    A = 0.00339713;    b = 0.73472925\n",
    "    Tmin = 190-273.15 # °C\n",
    "    Tmax = 394-273.15 # °C    \n",
    "\n",
    "    def cp(T):\n",
    "        TinK = T + 273.15\n",
    "        cp = A * TinK + b # berechne die Wärmekapazität von H12BT in J/g/K für eine gegebene Temperatur in K\n",
    "        return cp\n",
    "    \n",
    "    if T >= Tmin and T <= Tmax:\n",
    "        result = 'cp_H12BT(' + str(T) + '°C) = ' + str(round(cp(T), 1)) + ' J/g/K'\n",
    "    else:\n",
    "        result = 'cp_H12BT(' + str(T) + '°C) = ' + str(round(cp(T),1)) + ' J/g/K (out of Temperature range ' + str(int(Tmin)) + '°C - ' + str(int(Tmax)) + '°C)'\n",
    "    \n",
    "    return result, cp(T)\n",
    "cp_H12BT(-83)[-1]"
   ]
  },
  {
   "cell_type": "markdown",
   "metadata": {
    "Collapsed": "false"
   },
   "source": [
    "#### Wärmekapazität von gasförmigem H2:"
   ]
  },
  {
   "cell_type": "code",
   "execution_count": 15,
   "metadata": {
    "Collapsed": "false"
   },
   "outputs": [
    {
     "data": {
      "text/plain": [
       "14.456046474139951"
      ]
     },
     "execution_count": 15,
     "metadata": {},
     "output_type": "execute_result"
    }
   ],
   "source": [
    "def cp_H2(T):   # T in °C and output in J/g/K | [Gmehling12 p.711]\n",
    "    A = 1.41232403e+01;   B = 7.03384073e-04\n",
    "    M_H2 = 2.016 # g/mol\n",
    "\n",
    "    def cp(T):\n",
    "        TinK = T + 273.15\n",
    "        cp = (A + B*TinK) # berechne die Wärmekapazität von H2 in J/g/K für eine gegebene Temperatur in K\n",
    "        return cp\n",
    "    return cp(T)\n",
    "cp_H2(200)"
   ]
  },
  {
   "cell_type": "markdown",
   "metadata": {
    "Collapsed": "false"
   },
   "source": [
    "#### Dichte H0BT:"
   ]
  },
  {
   "cell_type": "code",
   "execution_count": 16,
   "metadata": {
    "Collapsed": "false"
   },
   "outputs": [],
   "source": [
    "def densl_H0BT(T):  # [fit from Sasol data]\n",
    "    A = 1243.89786070397;        b = -0.836900242152217\n",
    "    Tmin = 253-273.15 # °C\n",
    "    Tmax = 633-273.15 # °C    \n",
    "\n",
    "    def densl(T):\n",
    "        TinK = T + 273.15\n",
    "        densl = (A + b * TinK) # berechne die Dichte in kg/m^3 für eine gegebene Temperatur in K\n",
    "        return densl\n",
    "    \n",
    "    if T >= Tmin and T <= Tmax:\n",
    "        result = 'densl_H00BT(' + str(T) + '°C) = ' + str(round(densl(T), 1)) + ' kg/m^3'\n",
    "    else:\n",
    "        result = 'densl_H00BT(' + str(T) + '°C) = ' + str(round(densl(T),1)) + ' kg/m^3 (out of Temperature range ' + str(int(Tmin)) + '°C - ' + str(int(Tmax)) + '°C)'\n",
    "    \n",
    "    Ts = np.linspace(Tmin, Tmax, 100)\n",
    "    densls = densl(Ts)\n",
    "    \n",
    "    return result, Ts, densls, densl(T)"
   ]
  },
  {
   "cell_type": "markdown",
   "metadata": {
    "Collapsed": "false"
   },
   "source": [
    "#### Dichte H12BT:"
   ]
  },
  {
   "cell_type": "code",
   "execution_count": 17,
   "metadata": {
    "Collapsed": "false"
   },
   "outputs": [],
   "source": [
    "def densl_H12BT(T):  # [Müller15]\n",
    "    A = 1.0800347;    b = -0.0006954\n",
    "    Tmin = 293-273.15 # °C\n",
    "    Tmax = 353-273.15 # °C    \n",
    "\n",
    "    def densl(T):\n",
    "        TinK = T + 273.15\n",
    "        densl = 1000 * (A + b * TinK) # berechne die Dichte in kg/m^3 für eine gegebene Temperatur in K\n",
    "        return densl\n",
    "    \n",
    "    if T >= Tmin and T <= Tmax:\n",
    "        result = 'densl_H12BT(' + str(T) + '°C) = ' + str(round(densl(T), 1)) + ' kg/m^3'\n",
    "    else:\n",
    "        result = 'densl_H12BT(' + str(T) + '°C) = ' + str(round(densl(T),1)) + ' kg/m^3 (out of Temperature range ' + str(int(Tmin)) + '°C - ' + str(int(Tmax)) + '°C)'\n",
    "    \n",
    "    Ts = np.linspace(Tmin, Tmax, 100)\n",
    "    densls = densl(Ts)\n",
    "    \n",
    "    return result, Ts, densls, densl(T)"
   ]
  },
  {
   "cell_type": "markdown",
   "metadata": {
    "Collapsed": "false"
   },
   "source": [
    "#### Viskosität H0BT:"
   ]
  },
  {
   "cell_type": "code",
   "execution_count": 18,
   "metadata": {
    "Collapsed": "false"
   },
   "outputs": [
    {
     "data": {
      "text/plain": [
       "0.7882130498159373"
      ]
     },
     "execution_count": 18,
     "metadata": {},
     "output_type": "execute_result"
    }
   ],
   "source": [
    "def dvisc_H0BTMüller(T):  # [Müller15]\n",
    "    A = -39.3966559; b = 3655.68111; C = 4.99820468\n",
    "    Tmin = 273-273.15 # °C\n",
    "    Tmax = 453-273.15 # °C    \n",
    "\n",
    "    def dvisc(T):\n",
    "        TinK = T + 273.15\n",
    "        dvisc = np.exp(A + b / TinK + C * np.log(TinK)) # berechne die Viskosität in Ns/m für eine gegebene Temperatur in K\n",
    "        return dvisc\n",
    "    \n",
    "    if T >= Tmin and T <= Tmax:\n",
    "        result = 'dvisc_H00BT(' + str(T) + '°C) = ' + str(round(dvisc(T), 3)) + ' mPa s'\n",
    "    else:\n",
    "        result = 'dvisc_H00BT(' + str(T) + '°C) = ' + str(round(dvisc(T), 3)) + ' mPa s (out of Temperature range ' + str(int(Tmin)) + '°C - ' + str(int(Tmax)) + '°C)'\n",
    "    \n",
    "    return result, dvisc(T)\n",
    "\n",
    "dvisc_H0BTMüller(393-273)[-1]"
   ]
  },
  {
   "cell_type": "code",
   "execution_count": 19,
   "metadata": {
    "Collapsed": "false"
   },
   "outputs": [
    {
     "data": {
      "text/plain": [
       "1.2334701840220728"
      ]
     },
     "execution_count": 19,
     "metadata": {},
     "output_type": "execute_result"
    }
   ],
   "source": [
    "def dvisc_H0BT(T):  # [Yaws15]\n",
    "    A2 = -8.2314; B2 = 1.5452*10**3; C2 = 1.4735*10**-2; D2 = -1.0813*10**-5; E2 = [A2, B2, C2, D2]\n",
    "    A3 = -7.4742; B3 = 1.3832*10**3; C3 = 1.3557*10**-2; D3 = -1.0205*10**-5; E3 = [A3, B3, C3, D3]\n",
    "    A4 = -7.9626; B4 = 1.4873*10**3; C4 = 1.4314*10**-2; D4 = -1.0595*10**-5; E4 = [A4, B4, C4, D4]\n",
    "\n",
    "    Tmin = 370-273.15 # °C\n",
    "    Tmax = 716-273.15 # °C    \n",
    "\n",
    "    def visc(T, A, B, C, D):\n",
    "        TinK = T + 273.15\n",
    "        visc = 10**( A + B/TinK + C*TinK + D*TinK**2 ) # berechne die Viskosität in centipoise = mPa/s für eine gegebene Temperatur in K\n",
    "        return visc\n",
    "\n",
    "    def viscTmix(T):\n",
    "        viscTmix = np.average([visc(T,*E2), visc(T,*E3), visc(T,*E4)])\n",
    "        return viscTmix\n",
    "    \n",
    "    if T >= Tmin and T <= Tmax:\n",
    "        result = 'dvisc_H00BT(' + str(T) + '°C) = ' + str(round(viscTmix(T), 3)) + ' mPa s'\n",
    "    else:\n",
    "        result = 'dvisc_H00BT(' + str(T) + '°C) = ' + str(round(viscTmix(T), 3)) + ' mPa s (out of Temperature range ' + str(int(Tmin)) + '°C - ' + str(int(Tmax)) + '°C)'\n",
    "    \n",
    "    return result, viscTmix(T)\n",
    "\n",
    "dvisc_H0BT(333-273)[-1]"
   ]
  },
  {
   "cell_type": "markdown",
   "metadata": {
    "Collapsed": "false"
   },
   "source": [
    "#### Viskosität H12BT:"
   ]
  },
  {
   "cell_type": "code",
   "execution_count": 20,
   "metadata": {
    "Collapsed": "false"
   },
   "outputs": [
    {
     "data": {
      "text/plain": [
       "1.1269653404947564"
      ]
     },
     "execution_count": 20,
     "metadata": {},
     "output_type": "execute_result"
    }
   ],
   "source": [
    "def dvisc_H12BT(T):  # [Müller15]\n",
    "    A = -39.3966559; b = 3655.68111; C = 4.99820468\n",
    "    Tmin = 293-273.15 # °C\n",
    "    Tmax = 353-273.15 # °C    \n",
    "\n",
    "    def dvisc(T):\n",
    "        TinK = T + 273.15\n",
    "        dvisc = np.exp(A + b / TinK + C * np.log(TinK)) # berechne die Viskosität in Ns/m für eine gegebene Temperatur in K\n",
    "        return dvisc\n",
    "    \n",
    "    if T >= Tmin and T <= Tmax:\n",
    "        result = 'dvisc_H12BT(' + str(T) + '°C) = ' + str(round(dvisc(T), 3)) + ' mPa s'\n",
    "    else:\n",
    "        result = 'dvisc_H12BT(' + str(T) + '°C) = ' + str(round(dvisc(T), 3)) + ' mPa s (out of Temperature range ' + str(int(Tmin)) + '°C - ' + str(int(Tmax)) + '°C)'\n",
    "    \n",
    "    return result, dvisc(T)\n",
    "\n",
    "dvisc_H12BT(364-273)[-1]"
   ]
  },
  {
   "cell_type": "markdown",
   "metadata": {
    "Collapsed": "false"
   },
   "source": [
    "#### Oberflächenspannung H0BT:"
   ]
  },
  {
   "cell_type": "code",
   "execution_count": 21,
   "metadata": {
    "Collapsed": "false"
   },
   "outputs": [
    {
     "data": {
      "text/plain": [
       "33.23466148811585"
      ]
     },
     "execution_count": 21,
     "metadata": {},
     "output_type": "execute_result"
    }
   ],
   "source": [
    "def surfT_H0BT(T):  # [Yaws14 pdfp.811]\n",
    "    A2 = 61.225; B2 = 777.99; n2 = 1.22222; C2 = [A2, B2, n2]\n",
    "    A3 = 59.840; B3 = 777.99; n3 = 1.22222; C3 = [A3, B3, n3]\n",
    "    A4 = 58.917; B4 = 777.99; n4 = 1.22222; C4 = [A4, B4, n4]\n",
    "\n",
    "    Tmin = 280-273.15 # °C\n",
    "    Tmax = 778-273.15 # °C    \n",
    "\n",
    "    def surfT(T, A, B, n):\n",
    "        TinK = T + 273.15\n",
    "        surfT = A * (1-TinK/B)**n # berechne die surface tension in dynes/cm = mN/m für eine gegebene Temperatur in K\n",
    "        return surfT\n",
    "\n",
    "    def surfTmix(T):\n",
    "        surfTmix = np.average([surfT(T,*C2), surfT(T,*C3), surfT(T,*C4)])\n",
    "        return surfTmix\n",
    "    \n",
    "    if T >= Tmin and T <= Tmax:\n",
    "        result = 'surfT_H0BT(' + str(T) + '°C) = ' + str(int(round(surfTmix(T), 0))) + ' mN/m'\n",
    "    else:\n",
    "        result = 'surfT_H0BT(' + str(T) + '°C) = ' + str(int(round(surfTmix(T), 0))) + ' mN/m (out of Temperature range ' + str(int(Tmin)) + '°C - ' + str(int(Tmax)) + '°C)'\n",
    "    \n",
    "    return result, surfTmix(T)\n",
    "\n",
    "surfT_H0BT(298-273)[-1]"
   ]
  },
  {
   "cell_type": "markdown",
   "metadata": {
    "Collapsed": "false"
   },
   "source": [
    "#### Oberflächenspannung H12BT:"
   ]
  },
  {
   "cell_type": "code",
   "execution_count": 22,
   "metadata": {
    "Collapsed": "false"
   },
   "outputs": [],
   "source": [
    "def surfT_H12BT(T):  # [Müller15]\n",
    "    A = 58.137; B = -0.0892\n",
    "\n",
    "    Tmin = 297-273.15 # °C\n",
    "    Tmax = 328-273.15 # °C    \n",
    "\n",
    "    def surfT(T):\n",
    "        TinK = T + 273.15\n",
    "        surfT = A + B*TinK # berechne die surface tension in mN/m für eine gegebene Temperatur in K\n",
    "        return surfT\n",
    "    \n",
    "    if T >= Tmin and T <= Tmax:\n",
    "        result = 'surfT_H12BT(' + str(T) + '°C) = ' + str(int(round(surfT(T), 0))) + ' mN/m'\n",
    "    else:\n",
    "        result = 'surfT_H12BT(' + str(T) + '°C) = ' + str(int(round(surfT(T), 0))) + ' mN/m (out of Temperature range ' + str(int(Tmin)) + '°C - ' + str(int(Tmax)) + '°C)'\n",
    "    \n",
    "    return result, surfT(T)"
   ]
  },
  {
   "cell_type": "markdown",
   "metadata": {
    "Collapsed": "false"
   },
   "source": [
    "#### Verdampfungsenthalpie H0BT:"
   ]
  },
  {
   "cell_type": "code",
   "execution_count": 23,
   "metadata": {
    "Collapsed": "false"
   },
   "outputs": [],
   "source": [
    "def dHvap_H0BT(T):  # [Müller15]\n",
    "    b_H0BT = -98264.58; Dgl_C_pm0_H0BT = -83.6\n",
    "    Tmin = 373-273.15 # °C\n",
    "    Tmax = 633-273.15 # °C    \n",
    "\n",
    "    def dHvap(T):\n",
    "        TinK = T + 273.15\n",
    "        dHvap = (-b_H0BT + Dgl_C_pm0_H0BT * TinK) / 1000 # berechne die Verdampfungsenthalpie in kJ/mol für eine gegebene Temperatur in K\n",
    "        return dHvap\n",
    "    \n",
    "    if T >= Tmin and T <= Tmax:\n",
    "        result = 'dHvap_H00BT(' + str(T) + '°C) = ' + str(round(dHvap(T), 1)) + ' kJ/mol'\n",
    "    else:\n",
    "        result = 'dHvap_H00BT(' + str(T) + '°C) = ' + str(round(dHvap(T),1)) + ' kJ/mol (out of Temperature range ' + str(int(Tmin)) + '°C - ' + str(int(Tmax)) + '°C)'\n",
    "    \n",
    "    return result, dHvap(T)"
   ]
  },
  {
   "cell_type": "markdown",
   "metadata": {
    "Collapsed": "false"
   },
   "source": [
    "#### Reaktionsenthalpie H12Bt->H0BT:"
   ]
  },
  {
   "cell_type": "code",
   "execution_count": 24,
   "metadata": {
    "Collapsed": "false"
   },
   "outputs": [],
   "source": [
    "def dHr(T):\n",
    "    Tmin = 298-273 # °C\n",
    "    Tmax = 400-273 # °C  danach lineare Extrapolation der cp Daten von [Müller15]\n",
    "\n",
    "    R = 8.314471\n",
    "    def T_std():\n",
    "        return 298.15\n",
    "    def T_CtoK(T):\n",
    "        return T + 273.15\n",
    "    \n",
    "\n",
    "    cp_a_H12=0.73472925; cp_b_H12=0.00339713\n",
    "    cp_a_H0=0.76712874; cp_b_H0=0.00259635\n",
    "    cp_a_H2=14.1232403; cp_b_H2=7.03384073e-04\n",
    "    \n",
    "    def cp(TinK, a, b): # T in K and output in J/g/K | [Müller15 Table S1]\n",
    "        cp = b * TinK + a # berechne die Wärmekapazität von H0BT in J/g/K für eine gegebene Temperatur in K\n",
    "        return cp\n",
    "    \n",
    "    def cp_H12(T):\n",
    "        return cp(T, cp_a_H12, cp_b_H12)\n",
    "    def cp_H0(T):\n",
    "        return cp(T, cp_a_H0, cp_b_H0)\n",
    "    def cp_H2(T):\n",
    "        return cp(T, cp_a_H2, cp_b_H2)\n",
    "\n",
    "    dHr_std = 381.2*1000\n",
    "    nu_H12 = -1; nu_H0 = 1; nu_H2 = 6 # stöchio Koeffizienten\n",
    "    nu = [nu_H12, nu_H0, nu_H2]\n",
    "    M_H12BT=194.357; M_H0BT=182.261; M_H2=2.016 # molare Massen\n",
    "    Ms = [M_H12BT, M_H0BT, M_H2]\n",
    "    cp_as = [cp_a_H12, cp_a_H0, cp_a_H2]\n",
    "    cp_bs = [cp_b_H12,cp_b_H0,cp_b_H2]\n",
    "    Da = np.sum(np.multiply(np.multiply(nu, cp_as), Ms)) # Formel aus [Gmehling12]\n",
    "    Db = np.sum(np.multiply(np.multiply(nu, cp_bs), Ms)) # Formel aus [Gmehling12]\n",
    "\n",
    "    \n",
    "    def dHr_proH2(TinK):\n",
    "        return (dHr_std + Da*(TinK-T_std()) + Db/2*(TinK**2-T_std()**2))  /6/1000\n",
    "    \n",
    "    \n",
    "    \n",
    "    if T >= Tmin and T <= Tmax:\n",
    "        result = 'dHr_proH2(' + str(T) + '°C) = ' + str(round(dHr_proH2(T_CtoK(T)), 1)) + ' kJ/mol'\n",
    "    else:\n",
    "        result = 'dHr_proH2(' + str(T) + '°C) = ' + str(round(dHr_proH2(T_CtoK(T)), 1)) + ' kJ/mol (out of Temperature range ' + str(int(Tmin)) + '°C - ' + str(int(Tmax)) + '°C and calculated with linearly extrapolationg cp)'\n",
    "\n",
    "    Ts = np.linspace(Tmin, Tmax, 100)\n",
    "    dHrs = dHr_proH2(Ts)\n",
    "        \n",
    "    return result, Ts, dHrs, dHr_proH2(T_CtoK(T))"
   ]
  },
  {
   "cell_type": "markdown",
   "metadata": {
    "Collapsed": "false"
   },
   "source": [
    "#### Verdampfungsenthalpie H12BT:"
   ]
  },
  {
   "cell_type": "code",
   "execution_count": 25,
   "metadata": {
    "Collapsed": "false"
   },
   "outputs": [],
   "source": [
    "def dHvap_H12BT(T):  # [Müller15]\n",
    "    b_H12BT = -97330.02; Dgl_C_pm0_H12BT = -108.1\n",
    "    Tmin = 373-273.15 # °C\n",
    "    Tmax = 633-273.15 # °C    \n",
    "\n",
    "    def dHvap(T):\n",
    "        TinK = T + 273.15\n",
    "        dHvap = (-b_H12BT + Dgl_C_pm0_H12BT * TinK) / 1000 # berechne die Verdampfungsenthalpie in kJ/mol für eine gegebene Temperatur in K\n",
    "        return dHvap\n",
    "    \n",
    "    if T >= Tmin and T <= Tmax:\n",
    "        result = 'dHvap_H12BT(' + str(T) + '°C) = ' + str(round(dHvap(T), 1)) + ' kJ/mol'\n",
    "    else:\n",
    "        result = 'dHvap_H12BT(' + str(T) + '°C) = ' + str(round(dHvap(T),1)) + ' kJ/mol (out of Temperature range ' + str(int(Tmin)) + '°C - ' + str(int(Tmax)) + '°C)'\n",
    "    \n",
    "    return result, dHvap(T)"
   ]
  },
  {
   "cell_type": "markdown",
   "metadata": {
    "Collapsed": "false"
   },
   "source": [
    "#### Brechungsindex bei gewähltem DoH:"
   ]
  },
  {
   "cell_type": "code",
   "execution_count": 26,
   "metadata": {
    "Collapsed": "false"
   },
   "outputs": [],
   "source": [
    "def BI(xH12BT):  # [MG20]\n",
    "    C = [ 0.02067783, -0.11199142,  1.56819894]\n",
    "\n",
    "    def BI(xH12BT):\n",
    "        BI = np.polyval(C,xH12BT)\n",
    "        return BI\n",
    "\n",
    "    result = 'BI(20°C,xH12BT=' + str(round(xH12BT,2)) + ') = ' + str(round(BI(xH12BT), 4)) + ''\n",
    "    \n",
    "    return result, BI(xH12BT)"
   ]
  },
  {
   "cell_type": "markdown",
   "metadata": {
    "Collapsed": "false"
   },
   "source": [
    "# Import and Fit Data:"
   ]
  },
  {
   "cell_type": "code",
   "execution_count": 27,
   "metadata": {
    "Collapsed": "false"
   },
   "outputs": [
    {
     "name": "stdout",
     "output_type": "stream",
     "text": [
      "[0.00259635 0.76712874]\n"
     ]
    },
    {
     "data": {
      "text/html": [
       "<div>\n",
       "<style scoped>\n",
       "    .dataframe tbody tr th:only-of-type {\n",
       "        vertical-align: middle;\n",
       "    }\n",
       "\n",
       "    .dataframe tbody tr th {\n",
       "        vertical-align: top;\n",
       "    }\n",
       "\n",
       "    .dataframe thead th {\n",
       "        text-align: right;\n",
       "    }\n",
       "</style>\n",
       "<table border=\"1\" class=\"dataframe\">\n",
       "  <thead>\n",
       "    <tr style=\"text-align: right;\">\n",
       "      <th></th>\n",
       "      <th>T / °C</th>\n",
       "      <th>T / K</th>\n",
       "      <th>cp(H0)</th>\n",
       "      <th>T / K.1</th>\n",
       "      <th>cp(H12)</th>\n",
       "      <th>1-x fit</th>\n",
       "    </tr>\n",
       "  </thead>\n",
       "  <tbody>\n",
       "    <tr>\n",
       "      <th>0</th>\n",
       "      <td>-82.65</td>\n",
       "      <td>190.5</td>\n",
       "      <td>1.301</td>\n",
       "      <td>190.53</td>\n",
       "      <td>1.381</td>\n",
       "      <td>1.261733</td>\n",
       "    </tr>\n",
       "    <tr>\n",
       "      <th>1</th>\n",
       "      <td>-77.65</td>\n",
       "      <td>195.5</td>\n",
       "      <td>1.294</td>\n",
       "      <td>195.53</td>\n",
       "      <td>1.415</td>\n",
       "      <td>1.274714</td>\n",
       "    </tr>\n",
       "    <tr>\n",
       "      <th>2</th>\n",
       "      <td>-72.65</td>\n",
       "      <td>200.5</td>\n",
       "      <td>1.314</td>\n",
       "      <td>200.53</td>\n",
       "      <td>1.418</td>\n",
       "      <td>1.287696</td>\n",
       "    </tr>\n",
       "    <tr>\n",
       "      <th>3</th>\n",
       "      <td>-67.65</td>\n",
       "      <td>205.5</td>\n",
       "      <td>1.313</td>\n",
       "      <td>205.53</td>\n",
       "      <td>1.452</td>\n",
       "      <td>1.300678</td>\n",
       "    </tr>\n",
       "    <tr>\n",
       "      <th>4</th>\n",
       "      <td>-62.65</td>\n",
       "      <td>210.5</td>\n",
       "      <td>1.324</td>\n",
       "      <td>210.53</td>\n",
       "      <td>1.460</td>\n",
       "      <td>1.313659</td>\n",
       "    </tr>\n",
       "    <tr>\n",
       "      <th>5</th>\n",
       "      <td>-57.65</td>\n",
       "      <td>215.5</td>\n",
       "      <td>1.338</td>\n",
       "      <td>215.53</td>\n",
       "      <td>1.462</td>\n",
       "      <td>1.326641</td>\n",
       "    </tr>\n",
       "    <tr>\n",
       "      <th>6</th>\n",
       "      <td>-52.65</td>\n",
       "      <td>220.5</td>\n",
       "      <td>1.338</td>\n",
       "      <td>220.53</td>\n",
       "      <td>1.492</td>\n",
       "      <td>1.339623</td>\n",
       "    </tr>\n",
       "    <tr>\n",
       "      <th>7</th>\n",
       "      <td>-47.65</td>\n",
       "      <td>225.5</td>\n",
       "      <td>1.346</td>\n",
       "      <td>225.53</td>\n",
       "      <td>1.512</td>\n",
       "      <td>1.352605</td>\n",
       "    </tr>\n",
       "    <tr>\n",
       "      <th>8</th>\n",
       "      <td>-42.65</td>\n",
       "      <td>230.5</td>\n",
       "      <td>1.356</td>\n",
       "      <td>230.53</td>\n",
       "      <td>1.512</td>\n",
       "      <td>1.365586</td>\n",
       "    </tr>\n",
       "    <tr>\n",
       "      <th>9</th>\n",
       "      <td>-37.65</td>\n",
       "      <td>235.5</td>\n",
       "      <td>1.381</td>\n",
       "      <td>235.53</td>\n",
       "      <td>1.533</td>\n",
       "      <td>1.378568</td>\n",
       "    </tr>\n",
       "    <tr>\n",
       "      <th>10</th>\n",
       "      <td>-32.65</td>\n",
       "      <td>240.5</td>\n",
       "      <td>1.378</td>\n",
       "      <td>240.53</td>\n",
       "      <td>1.564</td>\n",
       "      <td>1.391550</td>\n",
       "    </tr>\n",
       "    <tr>\n",
       "      <th>11</th>\n",
       "      <td>-27.65</td>\n",
       "      <td>245.5</td>\n",
       "      <td>1.391</td>\n",
       "      <td>245.53</td>\n",
       "      <td>1.565</td>\n",
       "      <td>1.404532</td>\n",
       "    </tr>\n",
       "    <tr>\n",
       "      <th>12</th>\n",
       "      <td>-22.65</td>\n",
       "      <td>250.5</td>\n",
       "      <td>1.408</td>\n",
       "      <td>250.53</td>\n",
       "      <td>1.582</td>\n",
       "      <td>1.417513</td>\n",
       "    </tr>\n",
       "    <tr>\n",
       "      <th>13</th>\n",
       "      <td>-17.65</td>\n",
       "      <td>255.5</td>\n",
       "      <td>1.411</td>\n",
       "      <td>255.53</td>\n",
       "      <td>1.610</td>\n",
       "      <td>1.430495</td>\n",
       "    </tr>\n",
       "    <tr>\n",
       "      <th>14</th>\n",
       "      <td>-12.65</td>\n",
       "      <td>260.5</td>\n",
       "      <td>1.470</td>\n",
       "      <td>260.53</td>\n",
       "      <td>1.622</td>\n",
       "      <td>1.443477</td>\n",
       "    </tr>\n",
       "    <tr>\n",
       "      <th>15</th>\n",
       "      <td>-7.65</td>\n",
       "      <td>265.5</td>\n",
       "      <td>1.447</td>\n",
       "      <td>265.53</td>\n",
       "      <td>1.624</td>\n",
       "      <td>1.456458</td>\n",
       "    </tr>\n",
       "    <tr>\n",
       "      <th>16</th>\n",
       "      <td>-2.65</td>\n",
       "      <td>270.5</td>\n",
       "      <td>1.457</td>\n",
       "      <td>270.53</td>\n",
       "      <td>1.649</td>\n",
       "      <td>1.469440</td>\n",
       "    </tr>\n",
       "    <tr>\n",
       "      <th>17</th>\n",
       "      <td>2.35</td>\n",
       "      <td>275.5</td>\n",
       "      <td>1.462</td>\n",
       "      <td>275.53</td>\n",
       "      <td>1.662</td>\n",
       "      <td>1.482422</td>\n",
       "    </tr>\n",
       "    <tr>\n",
       "      <th>18</th>\n",
       "      <td>7.35</td>\n",
       "      <td>280.5</td>\n",
       "      <td>1.486</td>\n",
       "      <td>280.53</td>\n",
       "      <td>1.667</td>\n",
       "      <td>1.495404</td>\n",
       "    </tr>\n",
       "    <tr>\n",
       "      <th>19</th>\n",
       "      <td>12.35</td>\n",
       "      <td>285.5</td>\n",
       "      <td>1.497</td>\n",
       "      <td>285.53</td>\n",
       "      <td>1.692</td>\n",
       "      <td>1.508385</td>\n",
       "    </tr>\n",
       "    <tr>\n",
       "      <th>20</th>\n",
       "      <td>17.35</td>\n",
       "      <td>290.5</td>\n",
       "      <td>1.500</td>\n",
       "      <td>290.53</td>\n",
       "      <td>1.720</td>\n",
       "      <td>1.521367</td>\n",
       "    </tr>\n",
       "    <tr>\n",
       "      <th>21</th>\n",
       "      <td>22.35</td>\n",
       "      <td>295.5</td>\n",
       "      <td>1.519</td>\n",
       "      <td>295.53</td>\n",
       "      <td>1.723</td>\n",
       "      <td>1.534349</td>\n",
       "    </tr>\n",
       "    <tr>\n",
       "      <th>22</th>\n",
       "      <td>27.35</td>\n",
       "      <td>300.5</td>\n",
       "      <td>1.524</td>\n",
       "      <td>300.53</td>\n",
       "      <td>1.743</td>\n",
       "      <td>1.547331</td>\n",
       "    </tr>\n",
       "    <tr>\n",
       "      <th>23</th>\n",
       "      <td>32.35</td>\n",
       "      <td>305.5</td>\n",
       "      <td>1.541</td>\n",
       "      <td>305.53</td>\n",
       "      <td>1.773</td>\n",
       "      <td>1.560312</td>\n",
       "    </tr>\n",
       "    <tr>\n",
       "      <th>24</th>\n",
       "      <td>37.35</td>\n",
       "      <td>310.5</td>\n",
       "      <td>1.568</td>\n",
       "      <td>310.53</td>\n",
       "      <td>1.764</td>\n",
       "      <td>1.573294</td>\n",
       "    </tr>\n",
       "    <tr>\n",
       "      <th>25</th>\n",
       "      <td>42.35</td>\n",
       "      <td>315.5</td>\n",
       "      <td>1.579</td>\n",
       "      <td>315.53</td>\n",
       "      <td>1.796</td>\n",
       "      <td>1.586276</td>\n",
       "    </tr>\n",
       "    <tr>\n",
       "      <th>26</th>\n",
       "      <td>47.35</td>\n",
       "      <td>320.5</td>\n",
       "      <td>1.588</td>\n",
       "      <td>320.53</td>\n",
       "      <td>1.826</td>\n",
       "      <td>1.599257</td>\n",
       "    </tr>\n",
       "    <tr>\n",
       "      <th>27</th>\n",
       "      <td>52.35</td>\n",
       "      <td>325.5</td>\n",
       "      <td>1.600</td>\n",
       "      <td>325.53</td>\n",
       "      <td>1.828</td>\n",
       "      <td>1.612239</td>\n",
       "    </tr>\n",
       "    <tr>\n",
       "      <th>28</th>\n",
       "      <td>57.35</td>\n",
       "      <td>330.5</td>\n",
       "      <td>1.627</td>\n",
       "      <td>330.53</td>\n",
       "      <td>1.853</td>\n",
       "      <td>1.625221</td>\n",
       "    </tr>\n",
       "    <tr>\n",
       "      <th>29</th>\n",
       "      <td>62.35</td>\n",
       "      <td>335.5</td>\n",
       "      <td>1.638</td>\n",
       "      <td>335.53</td>\n",
       "      <td>1.881</td>\n",
       "      <td>1.638203</td>\n",
       "    </tr>\n",
       "    <tr>\n",
       "      <th>30</th>\n",
       "      <td>67.35</td>\n",
       "      <td>340.5</td>\n",
       "      <td>1.650</td>\n",
       "      <td>340.53</td>\n",
       "      <td>1.891</td>\n",
       "      <td>1.651184</td>\n",
       "    </tr>\n",
       "    <tr>\n",
       "      <th>31</th>\n",
       "      <td>72.35</td>\n",
       "      <td>345.5</td>\n",
       "      <td>1.679</td>\n",
       "      <td>345.53</td>\n",
       "      <td>1.900</td>\n",
       "      <td>1.664166</td>\n",
       "    </tr>\n",
       "    <tr>\n",
       "      <th>32</th>\n",
       "      <td>77.35</td>\n",
       "      <td>350.5</td>\n",
       "      <td>1.679</td>\n",
       "      <td>350.53</td>\n",
       "      <td>1.935</td>\n",
       "      <td>1.677148</td>\n",
       "    </tr>\n",
       "    <tr>\n",
       "      <th>33</th>\n",
       "      <td>82.35</td>\n",
       "      <td>355.5</td>\n",
       "      <td>1.690</td>\n",
       "      <td>355.53</td>\n",
       "      <td>1.958</td>\n",
       "      <td>1.690130</td>\n",
       "    </tr>\n",
       "    <tr>\n",
       "      <th>34</th>\n",
       "      <td>87.35</td>\n",
       "      <td>360.5</td>\n",
       "      <td>1.715</td>\n",
       "      <td>360.53</td>\n",
       "      <td>1.958</td>\n",
       "      <td>1.703111</td>\n",
       "    </tr>\n",
       "    <tr>\n",
       "      <th>35</th>\n",
       "      <td>92.35</td>\n",
       "      <td>365.5</td>\n",
       "      <td>1.726</td>\n",
       "      <td>365.53</td>\n",
       "      <td>1.976</td>\n",
       "      <td>1.716093</td>\n",
       "    </tr>\n",
       "    <tr>\n",
       "      <th>36</th>\n",
       "      <td>97.35</td>\n",
       "      <td>370.5</td>\n",
       "      <td>1.724</td>\n",
       "      <td>370.53</td>\n",
       "      <td>2.008</td>\n",
       "      <td>1.729075</td>\n",
       "    </tr>\n",
       "    <tr>\n",
       "      <th>37</th>\n",
       "      <td>102.35</td>\n",
       "      <td>375.5</td>\n",
       "      <td>1.754</td>\n",
       "      <td>375.53</td>\n",
       "      <td>2.008</td>\n",
       "      <td>1.742056</td>\n",
       "    </tr>\n",
       "    <tr>\n",
       "      <th>38</th>\n",
       "      <td>107.35</td>\n",
       "      <td>380.5</td>\n",
       "      <td>1.762</td>\n",
       "      <td>380.53</td>\n",
       "      <td>2.032</td>\n",
       "      <td>1.755038</td>\n",
       "    </tr>\n",
       "    <tr>\n",
       "      <th>39</th>\n",
       "      <td>112.35</td>\n",
       "      <td>385.5</td>\n",
       "      <td>1.779</td>\n",
       "      <td>385.53</td>\n",
       "      <td>2.064</td>\n",
       "      <td>1.768020</td>\n",
       "    </tr>\n",
       "    <tr>\n",
       "      <th>40</th>\n",
       "      <td>117.35</td>\n",
       "      <td>390.5</td>\n",
       "      <td>1.800</td>\n",
       "      <td>390.53</td>\n",
       "      <td>2.055</td>\n",
       "      <td>1.781002</td>\n",
       "    </tr>\n",
       "    <tr>\n",
       "      <th>41</th>\n",
       "      <td>122.35</td>\n",
       "      <td>395.5</td>\n",
       "      <td>1.809</td>\n",
       "      <td>395.53</td>\n",
       "      <td>2.104</td>\n",
       "      <td>1.793983</td>\n",
       "    </tr>\n",
       "    <tr>\n",
       "      <th>42</th>\n",
       "      <td>127.35</td>\n",
       "      <td>400.5</td>\n",
       "      <td>1.814</td>\n",
       "      <td>400.53</td>\n",
       "      <td>2.089</td>\n",
       "      <td>1.806965</td>\n",
       "    </tr>\n",
       "  </tbody>\n",
       "</table>\n",
       "</div>"
      ],
      "text/plain": [
       "    T / °C  T / K  cp(H0)  T / K.1  cp(H12)   1-x fit\n",
       "0   -82.65  190.5   1.301   190.53    1.381  1.261733\n",
       "1   -77.65  195.5   1.294   195.53    1.415  1.274714\n",
       "2   -72.65  200.5   1.314   200.53    1.418  1.287696\n",
       "3   -67.65  205.5   1.313   205.53    1.452  1.300678\n",
       "4   -62.65  210.5   1.324   210.53    1.460  1.313659\n",
       "5   -57.65  215.5   1.338   215.53    1.462  1.326641\n",
       "6   -52.65  220.5   1.338   220.53    1.492  1.339623\n",
       "7   -47.65  225.5   1.346   225.53    1.512  1.352605\n",
       "8   -42.65  230.5   1.356   230.53    1.512  1.365586\n",
       "9   -37.65  235.5   1.381   235.53    1.533  1.378568\n",
       "10  -32.65  240.5   1.378   240.53    1.564  1.391550\n",
       "11  -27.65  245.5   1.391   245.53    1.565  1.404532\n",
       "12  -22.65  250.5   1.408   250.53    1.582  1.417513\n",
       "13  -17.65  255.5   1.411   255.53    1.610  1.430495\n",
       "14  -12.65  260.5   1.470   260.53    1.622  1.443477\n",
       "15   -7.65  265.5   1.447   265.53    1.624  1.456458\n",
       "16   -2.65  270.5   1.457   270.53    1.649  1.469440\n",
       "17    2.35  275.5   1.462   275.53    1.662  1.482422\n",
       "18    7.35  280.5   1.486   280.53    1.667  1.495404\n",
       "19   12.35  285.5   1.497   285.53    1.692  1.508385\n",
       "20   17.35  290.5   1.500   290.53    1.720  1.521367\n",
       "21   22.35  295.5   1.519   295.53    1.723  1.534349\n",
       "22   27.35  300.5   1.524   300.53    1.743  1.547331\n",
       "23   32.35  305.5   1.541   305.53    1.773  1.560312\n",
       "24   37.35  310.5   1.568   310.53    1.764  1.573294\n",
       "25   42.35  315.5   1.579   315.53    1.796  1.586276\n",
       "26   47.35  320.5   1.588   320.53    1.826  1.599257\n",
       "27   52.35  325.5   1.600   325.53    1.828  1.612239\n",
       "28   57.35  330.5   1.627   330.53    1.853  1.625221\n",
       "29   62.35  335.5   1.638   335.53    1.881  1.638203\n",
       "30   67.35  340.5   1.650   340.53    1.891  1.651184\n",
       "31   72.35  345.5   1.679   345.53    1.900  1.664166\n",
       "32   77.35  350.5   1.679   350.53    1.935  1.677148\n",
       "33   82.35  355.5   1.690   355.53    1.958  1.690130\n",
       "34   87.35  360.5   1.715   360.53    1.958  1.703111\n",
       "35   92.35  365.5   1.726   365.53    1.976  1.716093\n",
       "36   97.35  370.5   1.724   370.53    2.008  1.729075\n",
       "37  102.35  375.5   1.754   375.53    2.008  1.742056\n",
       "38  107.35  380.5   1.762   380.53    2.032  1.755038\n",
       "39  112.35  385.5   1.779   385.53    2.064  1.768020\n",
       "40  117.35  390.5   1.800   390.53    2.055  1.781002\n",
       "41  122.35  395.5   1.809   395.53    2.104  1.793983\n",
       "42  127.35  400.5   1.814   400.53    2.089  1.806965"
      ]
     },
     "execution_count": 27,
     "metadata": {},
     "output_type": "execute_result"
    }
   ],
   "source": [
    "import pandas as pd\n",
    "import numpy as np\n",
    "df = pd.read_csv('z.csv', sep='\\t')\n",
    "p = np.polyfit(df['T / K'], df['cp(H0)'], 1)\n",
    "df['1-x fit'] = np.polyval(p, df['T / K'])\n",
    "print(p)\n",
    "df"
   ]
  }
 ],
 "metadata": {
  "kernelspec": {
   "display_name": "Python 3",
   "language": "python",
   "name": "python3"
  },
  "language_info": {
   "codemirror_mode": {
    "name": "ipython",
    "version": 3
   },
   "file_extension": ".py",
   "mimetype": "text/x-python",
   "name": "python",
   "nbconvert_exporter": "python",
   "pygments_lexer": "ipython3",
   "version": "3.7.7"
  }
 },
 "nbformat": 4,
 "nbformat_minor": 4
}
